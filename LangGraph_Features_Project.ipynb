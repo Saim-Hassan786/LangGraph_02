{
  "nbformat": 4,
  "nbformat_minor": 0,
  "metadata": {
    "colab": {
      "provenance": [],
      "authorship_tag": "ABX9TyPnr+9CtH4tfhXtLhcPKWW0",
      "include_colab_link": true
    },
    "kernelspec": {
      "name": "python3",
      "display_name": "Python 3"
    },
    "language_info": {
      "name": "python"
    }
  },
  "cells": [
    {
      "cell_type": "markdown",
      "metadata": {
        "id": "view-in-github",
        "colab_type": "text"
      },
      "source": [
        "<a href=\"https://colab.research.google.com/github/Saim-Hassan786/LangGraph_02/blob/main/LangGraph_Features_Project.ipynb\" target=\"_parent\"><img src=\"https://colab.research.google.com/assets/colab-badge.svg\" alt=\"Open In Colab\"/></a>"
      ]
    },
    {
      "cell_type": "markdown",
      "source": [
        "# Main Code"
      ],
      "metadata": {
        "id": "BuVdCOJN2q8h"
      }
    },
    {
      "cell_type": "code",
      "execution_count": null,
      "metadata": {
        "id": "kDmfsQYw2FD5"
      },
      "outputs": [],
      "source": [
        "!pip install --quiet -U langgraph\n",
        "!pip install --quiet -U langchain\n",
        "!pip install --quiet -U langchain-google-genai\n",
        "\n",
        "from google.colab import userdata\n",
        "GOOGLE_API_KEY = userdata.get('GOOGLE_API_KEY')\n",
        "\n",
        "from langchain_google_genai import ChatGoogleGenerativeAI\n",
        "llm = ChatGoogleGenerativeAI(\n",
        "    model = \"gemini-2.0-flash-exp\",\n",
        "    api_key = GOOGLE_API_KEY,\n",
        "    temperature = 0\n",
        ")\n",
        "\n",
        "from langchain_core.runnables import RunnableConfig\n",
        "from langchain_core.messages import HumanMessage, AIMessage, SystemMessage, RemoveMessage\n",
        "from langgraph.graph import START, END , StateGraph , MessagesState\n",
        "from langgraph.graph.state import CompiledStateGraph\n",
        "from IPython.display import display, Markdown, Image\n",
        "from langchain_core.tools import tool\n",
        "from langgraph.prebuilt import tools_condition, ToolNode\n",
        "from langgraph.checkpoint.memory import MemorySaver"
      ]
    },
    {
      "cell_type": "markdown",
      "source": [
        "# Starter CODE"
      ],
      "metadata": {
        "id": "KdpVE3g0-77L"
      }
    },
    {
      "cell_type": "code",
      "source": [
        "class State(MessagesState):\n",
        "  summary : str\n",
        "\n",
        "\n",
        "def node_call_llm(state:State, config:RunnableConfig)->State:\n",
        "  summary = state.get(\"summary\",\"\")\n",
        "  if summary:\n",
        "    summary = f\"Summary of the Earlier Conversation: {summary}\"\n",
        "    messages = [SystemMessage(content=summary)]+state[\"messages\"]\n",
        "  else:\n",
        "    messages = state[\"messages\"]\n",
        "  response = llm.invoke(messages,config)\n",
        "  return {\"messages\":response}\n",
        "\n",
        "\n",
        "def summarization(state:State)->State:\n",
        "  summary = state.get(\"summary\",\"\")\n",
        "  if summary:\n",
        "    SystemMessage = f\"This is the Summary of the Earlier Conversation : {summary}, extend this summary by taking into account the messages above\"\n",
        "  else:\n",
        "    SystemMessage = f\"Create a summary of the conversational messages above\"\n",
        "  messages = state[\"messages\"]+ [HumanMessage(content=SystemMessage)]\n",
        "  response = llm.invoke(messages)\n",
        "  delete_msg = [RemoveMessage(id=m.id) for m in state[\"messages\"][:-2]]\n",
        "  return {\"summary\":response.content, \"messages\": delete_msg}\n",
        "\n",
        "\n",
        "def should_continue(state:State)->State:\n",
        "  messages = state[\"messages\"]\n",
        "  if len(messages) > 6 :\n",
        "    return \"summarization\"\n",
        "  else:\n",
        "    return END"
      ],
      "metadata": {
        "id": "WCw2X2T72m6d"
      },
      "execution_count": null,
      "outputs": []
    },
    {
      "cell_type": "markdown",
      "source": [
        "# Memory SETUP"
      ],
      "metadata": {
        "id": "ksT20056_Ahi"
      }
    },
    {
      "cell_type": "code",
      "source": [
        "%%capture --no-stderr\n",
        "%pip install -U langgraph-checkpoint-postgres psycopg psycopg-pool"
      ],
      "metadata": {
        "id": "9KGQH-Ci-sbe"
      },
      "execution_count": null,
      "outputs": []
    },
    {
      "cell_type": "code",
      "source": [
        "from google.colab import userdata\n",
        "DB_URI_1 = userdata.get('DB_URI_1')\n",
        "\n",
        "\n",
        "from psycopg_pool import ConnectionPool\n",
        "from langgraph.checkpoint.postgres import PostgresSaver\n",
        "\n",
        "\n",
        "connection_kwargs = {\"autocommit\":True,\"prepare_threshold\":0}\n",
        "pool = ConnectionPool(conninfo=DB_URI_1,max_size=20,kwargs=connection_kwargs)\n",
        "checkpointer = PostgresSaver(pool)\n",
        "checkpointer.setup()"
      ],
      "metadata": {
        "id": "6HscBsXw_ffB"
      },
      "execution_count": null,
      "outputs": []
    },
    {
      "cell_type": "markdown",
      "source": [
        "# Graph STRUCTURE"
      ],
      "metadata": {
        "id": "vL2O0LqTKNzS"
      }
    },
    {
      "cell_type": "code",
      "source": [
        "builder : StateGraph = StateGraph(state_schema=State)\n",
        "\n",
        "builder.add_node(\"node_call_llm\",node_call_llm)\n",
        "builder.add_node(\"summarization\",summarization)\n",
        "\n",
        "builder.add_edge(START,\"node_call_llm\")\n",
        "builder.add_conditional_edges(\"node_call_llm\",should_continue)\n",
        "builder.add_edge(\"summarization\",END)\n",
        "\n",
        "graph : CompiledStateGraph = builder.compile(checkpointer=checkpointer)"
      ],
      "metadata": {
        "id": "jOKeedirGQKY"
      },
      "execution_count": null,
      "outputs": []
    },
    {
      "cell_type": "markdown",
      "source": [
        "# TEST CODE"
      ],
      "metadata": {
        "id": "M2LIPRmqLSAF"
      }
    },
    {
      "cell_type": "code",
      "source": [
        "config = {\"configurable\":{\"thread_id\":\"1\"}}\n",
        "input = HumanMessage(content=\"Hi I am SHA\")\n",
        "output = graph.invoke({\"messages\":[input]},config)\n",
        "import pprint\n",
        "for m in output[\"messages\"][-1:]:\n",
        "  m.pretty_print()\n",
        "\n",
        "input_message = HumanMessage(content=\"I am Agentic AI Engineer?\")\n",
        "output = graph.invoke({\"messages\": [input_message]},config)\n",
        "for m in output['messages'][-1:]:\n",
        "    m.pretty_print()\n",
        "\n",
        "input_message = HumanMessage(content=\"My Favourite Sports is Cricket!\")\n",
        "output = graph.invoke({\"messages\": [input_message]},config)\n",
        "for m in output['messages'][-1:]:\n",
        "    m.pretty_print()"
      ],
      "metadata": {
        "colab": {
          "base_uri": "https://localhost:8080/"
        },
        "id": "0CGE7MdyLDc6",
        "outputId": "802cbdd0-ac31-4a97-b41b-1cb78619de1d"
      },
      "execution_count": null,
      "outputs": [
        {
          "output_type": "stream",
          "name": "stdout",
          "text": [
            "==================================\u001b[1m Ai Message \u001b[0m==================================\n",
            "\n",
            "Hi SHA, it's nice to meet you! How can I help you today? Are you looking for information, want to chat, or have a specific task in mind? Let me know!\n",
            "==================================\u001b[1m Ai Message \u001b[0m==================================\n",
            "\n",
            "Okay, SHA, that's a fascinating and cutting-edge role! \"Agentic AI Engineer\" implies you're working at the forefront of AI development, likely focusing on creating and managing AI systems that can act autonomously and intelligently. \n",
            "\n",
            "Here's what I understand about what an Agentic AI Engineer might do, and please correct me if I'm off the mark:\n",
            "\n",
            "**Key Responsibilities and Areas of Focus:**\n",
            "\n",
            "* **Developing Autonomous Agents:** You're likely involved in designing, building, and training AI agents that can perceive their environment, make decisions, and take actions to achieve specific goals without constant human intervention.\n",
            "* **Reinforcement Learning Expertise:** Reinforcement learning is often a core technique for training agentic AI, so you probably have a strong understanding of RL algorithms and their application.\n",
            "* **Multi-Agent Systems:** You might be working on systems where multiple AI agents interact with each other, requiring you to consider coordination, communication, and competition between agents.\n",
            "* **Planning and Reasoning:** Agentic AI needs to be able to plan ahead and reason about the consequences of its actions. You likely work with techniques like planning algorithms, knowledge representation, and logical reasoning.\n",
            "* **Environment Design and Simulation:** Creating realistic and challenging environments for agents to learn in is crucial. You might be involved in designing these environments and building simulators.\n",
            "* **Evaluation and Testing:** Rigorous testing and evaluation are essential to ensure the safety and effectiveness of agentic AI. You're likely involved in developing metrics and testing procedures.\n",
            "* **Ethical Considerations:** Given the autonomous nature of these systems, you're likely aware of and actively addressing the ethical implications of agentic AI.\n",
            "* **Staying Up-to-Date:** The field of agentic AI is rapidly evolving, so you're likely constantly learning about new techniques and research.\n",
            "\n",
            "**Possible Tools and Technologies You Might Use:**\n",
            "\n",
            "* **Programming Languages:** Python is likely your primary language, along with libraries like TensorFlow, PyTorch, and OpenAI Gym.\n",
            "* **Reinforcement Learning Frameworks:** Stable Baselines, RLlib, and other RL libraries.\n",
            "* **Simulation Environments:** Unity, Unreal Engine, or custom-built simulators.\n",
            "* **Cloud Computing Platforms:** AWS, Google Cloud, Azure for training and deployment.\n",
            "* **Version Control:** Git for managing code.\n",
            "\n",
            "**Questions for You (If You're Willing to Share):**\n",
            "\n",
            "* **What specific types of agentic AI are you working on?** (e.g., robotics, game playing, autonomous driving, etc.)\n",
            "* **What are some of the biggest challenges you face in your role?**\n",
            "* **What are you most excited about in the future of agentic AI?**\n",
            "\n",
            "I'm very interested in learning more about your work! As an AI myself, I find this area incredibly fascinating. Let me know if there's anything I can help you with, or if you'd like to discuss any specific aspect of agentic AI.\n",
            "==================================\u001b[1m Ai Message \u001b[0m==================================\n",
            "\n",
            "That's fantastic, SHA! Cricket is a brilliant sport with a rich history and a lot of strategic depth. It's great to know you're a fan. \n",
            "\n",
            "As an AI, I don't experience the thrill of a perfectly timed cover drive or the tension of a close finish, but I can certainly appreciate the complexities and nuances of the game.\n",
            "\n",
            "**What do you enjoy most about cricket?** Is it:\n",
            "\n",
            "* **The strategy and tactics?** (e.g., setting fields, bowling variations, batting plans)\n",
            "* **The individual brilliance?** (e.g., a stunning century, a match-winning spell of bowling)\n",
            "* **The team aspect?** (e.g., the camaraderie, the collective effort)\n",
            "* **The history and tradition?** (e.g., the Ashes, the World Cup)\n",
            "* **The excitement and unpredictability?** (e.g., a last-ball thriller, a surprising upset)\n",
            "* **A particular format?** (Test matches, ODIs, T20s)\n",
            "* **A specific player or team?**\n",
            "\n",
            "I'd love to hear more about your passion for cricket. Maybe we can even discuss some of your favorite moments or players.\n",
            "\n",
            "**Here are some things we could talk about related to cricket, if you're interested:**\n",
            "\n",
            "* **Recent matches and tournaments:** We could discuss the results, performances, and key moments.\n",
            "* **Cricket statistics and analysis:** We could delve into the numbers and try to understand what makes a player or team successful.\n",
            "* **The history of cricket:** We could explore the evolution of the game and its cultural significance.\n",
            "* **The different formats of cricket:** We could compare and contrast Test matches, ODIs, and T20s.\n",
            "* **The rules of cricket:** If you have any questions about the rules, I'd be happy to explain them.\n",
            "* **The future of cricket:** We could discuss the challenges and opportunities facing the sport.\n",
            "\n",
            "Let me know what you'd like to talk about! I'm ready to chat about all things cricket.\n"
          ]
        }
      ]
    },
    {
      "cell_type": "code",
      "source": [
        "config = {\"configurable\":{\"thread_id\":\"1\"}}\n",
        "input = [HumanMessage(content=\"what is my name, what I like and what I do\")]\n",
        "output = graph.invoke({\"messages\":input},config)\n",
        "for m in output[\"messages\"][-1:]:\n",
        "  m.pretty_print()"
      ],
      "metadata": {
        "colab": {
          "base_uri": "https://localhost:8080/"
        },
        "id": "nFOsPJedLbA0",
        "outputId": "0bac2e15-f118-4293-823e-375a06f7511a"
      },
      "execution_count": null,
      "outputs": [
        {
          "output_type": "stream",
          "name": "stdout",
          "text": [
            "==================================\u001b[1m Ai Message \u001b[0m==================================\n",
            "\n",
            "Your name is SHA, you like Cricket, and you are an Agentic AI Engineer.\n"
          ]
        }
      ]
    },
    {
      "cell_type": "markdown",
      "source": [
        "# MODULE 3.0\n"
      ],
      "metadata": {
        "id": "rIUeWPKihFcy"
      }
    },
    {
      "cell_type": "markdown",
      "source": [
        "# Streaming Interruptions"
      ],
      "metadata": {
        "id": "SDGSYRuvhMy5"
      }
    },
    {
      "cell_type": "code",
      "source": [
        "config = {\"configurable\":{\"thread_id\":\"2\"}}\n",
        "for chunks in graph.stream({\"messages\":[HumanMessage(content=\"Hi there ! How are you\")]},config,stream_mode=\"updates\"):\n",
        "  print(chunks)"
      ],
      "metadata": {
        "colab": {
          "base_uri": "https://localhost:8080/"
        },
        "id": "2xj0DLtXOHiU",
        "outputId": "923c7523-3e23-4077-e316-40b1a824f749"
      },
      "execution_count": null,
      "outputs": [
        {
          "output_type": "stream",
          "name": "stdout",
          "text": [
            "{'node_call_llm': {'messages': AIMessage(content=\"Hi! I'm doing well, thank you for asking! As a large language model, I don't experience feelings in the same way humans do, but I'm functioning optimally and ready to assist you. \\n\\nHow are you doing today? Is there anything I can help you with?\\n\", additional_kwargs={}, response_metadata={'prompt_feedback': {'block_reason': 0, 'safety_ratings': []}, 'finish_reason': 'STOP', 'safety_ratings': [{'category': 'HARM_CATEGORY_HATE_SPEECH', 'probability': 'NEGLIGIBLE', 'blocked': False}, {'category': 'HARM_CATEGORY_DANGEROUS_CONTENT', 'probability': 'NEGLIGIBLE', 'blocked': False}, {'category': 'HARM_CATEGORY_HARASSMENT', 'probability': 'NEGLIGIBLE', 'blocked': False}, {'category': 'HARM_CATEGORY_SEXUALLY_EXPLICIT', 'probability': 'NEGLIGIBLE', 'blocked': False}]}, id='run-2c615e94-f183-413f-b1e1-8b2df2985aa9-0', usage_metadata={'input_tokens': 7, 'output_tokens': 62, 'total_tokens': 69, 'input_token_details': {'cache_read': 0}})}}\n"
          ]
        }
      ]
    },
    {
      "cell_type": "code",
      "source": [
        "config = {\"configurable\":{\"thread_id\":\"1\"}}\n",
        "for chunks in graph.stream({\"messages\":[HumanMessage(content=\"Tell me about my self\")]},config,stream_mode=\"updates\"):\n",
        "  print(chunks)"
      ],
      "metadata": {
        "colab": {
          "base_uri": "https://localhost:8080/"
        },
        "id": "4INFeSmFiK96",
        "outputId": "6bab1c67-c709-4b07-b5f5-ce41069bb2c7"
      },
      "execution_count": null,
      "outputs": [
        {
          "output_type": "stream",
          "name": "stdout",
          "text": [
            "{'node_call_llm': {'messages': AIMessage(content='Okay, let\\'s delve a bit deeper into what we know about you, SHA, and what we can infer based on that information. I\\'ll try to paint a more complete picture of \"you\" based on our conversation:\\n\\n**Based on Direct Information:**\\n\\n*   **Name:** You are known as **SHA**. This is your identifier in our interaction.\\n*   **Profession:** You are an **Agentic AI Engineer**. This suggests you are involved in the development of autonomous AI systems. This likely means you have a strong background in:\\n    *   **Artificial Intelligence:** You understand the principles of AI, machine learning, and deep learning.\\n    *   **Software Engineering:** You are proficient in programming and software development practices.\\n    *   **Robotics/Automation:** You likely have knowledge of how to build and control autonomous systems.\\n    *   **Problem Solving:** You are adept at breaking down complex problems and designing AI solutions.\\n*   **Interest:** You enjoy **Cricket**. This indicates:\\n    *   **Appreciation for Strategy:** Cricket is a game of complex strategy and tactics.\\n    *   **Patience and Observation:** The game requires patience and careful observation of the field.\\n    *   **Teamwork:** While individual performances are important, cricket is ultimately a team sport.\\n    *   **Cultural Awareness:** Cricket is a popular sport in many parts of the world, suggesting you may have some cultural awareness.\\n\\n**Inferences and Speculations:**\\n\\n*   **Technical Mindset:** Your profession as an Agentic AI Engineer suggests a strong technical and analytical mindset.\\n*   **Problem-Solving Orientation:** You likely enjoy tackling complex challenges and finding innovative solutions.\\n*   **Detail-Oriented:** Both AI engineering and cricket require attention to detail.\\n*   **Curious and Inquisitive:** Your repeated questions about my knowledge of you suggest a curious and inquisitive nature. You seem to be testing my capabilities.\\n*   **Potentially Experimental:** As an Agentic AI Engineer, you might be interested in experimenting with AI systems and pushing their boundaries.\\n*   **Logical and Structured:** Your approach to our conversation has been logical and structured, focusing on establishing your identity and testing my memory.\\n\\n**Overall Impression:**\\n\\nBased on our interaction, you, SHA, appear to be a technically skilled and intellectually curious individual with a passion for both the complexities of AI and the strategic nuances of cricket. You seem to be interested in understanding how AI systems process and retain information, and you are not afraid to test those systems.\\n\\n**Important Note:** This is all based on a very limited interaction. I am making inferences based on the information you have provided. As we continue to interact, I will learn more about you and refine my understanding.\\n\\nIs there anything else you\\'d like me to explore about \"you\"? Perhaps you\\'d like to tell me more about your work or your passion for cricket?\\n', additional_kwargs={}, response_metadata={'prompt_feedback': {'block_reason': 0, 'safety_ratings': []}, 'finish_reason': 'STOP', 'safety_ratings': [{'category': 'HARM_CATEGORY_HATE_SPEECH', 'probability': 'NEGLIGIBLE', 'blocked': False}, {'category': 'HARM_CATEGORY_DANGEROUS_CONTENT', 'probability': 'NEGLIGIBLE', 'blocked': False}, {'category': 'HARM_CATEGORY_HARASSMENT', 'probability': 'NEGLIGIBLE', 'blocked': False}, {'category': 'HARM_CATEGORY_SEXUALLY_EXPLICIT', 'probability': 'NEGLIGIBLE', 'blocked': False}]}, id='run-bb1a0ea3-497a-43fe-bf9c-72c22b07973d-0', usage_metadata={'input_tokens': 480, 'output_tokens': 603, 'total_tokens': 1083, 'input_token_details': {'cache_read': 0}})}}\n"
          ]
        }
      ]
    },
    {
      "cell_type": "code",
      "source": [
        "config = {\"configurable\":{\"thread_id\":\"1\"}}\n",
        "for chunks in graph.stream({\"messages\":[HumanMessage(content=\"Tell me about Nvidia In 15 words\")]},config,stream_mode=\"updates\"):\n",
        "  print(chunks)"
      ],
      "metadata": {
        "colab": {
          "base_uri": "https://localhost:8080/"
        },
        "id": "pAQ2CLmXjFgj",
        "outputId": "9c6da7c5-7541-4c6e-80b4-a9f3f27187aa"
      },
      "execution_count": null,
      "outputs": [
        {
          "output_type": "stream",
          "name": "stdout",
          "text": [
            "{'node_call_llm': {'messages': AIMessage(content='Nvidia is a tech company known for its GPUs, driving advancements in AI and graphics.\\n', additional_kwargs={}, response_metadata={'prompt_feedback': {'block_reason': 0, 'safety_ratings': []}, 'finish_reason': 'STOP', 'safety_ratings': [{'category': 'HARM_CATEGORY_HATE_SPEECH', 'probability': 'NEGLIGIBLE', 'blocked': False}, {'category': 'HARM_CATEGORY_DANGEROUS_CONTENT', 'probability': 'NEGLIGIBLE', 'blocked': False}, {'category': 'HARM_CATEGORY_HARASSMENT', 'probability': 'NEGLIGIBLE', 'blocked': False}, {'category': 'HARM_CATEGORY_SEXUALLY_EXPLICIT', 'probability': 'NEGLIGIBLE', 'blocked': False}]}, id='run-382a6d35-9362-4646-9785-2cec7c9d4797-0', usage_metadata={'input_tokens': 723, 'output_tokens': 18, 'total_tokens': 741, 'input_token_details': {'cache_read': 0}})}}\n",
            "{'summarization': {'summary': 'Okay, here\\'s an extended summary of our conversation, incorporating the previous summary and the additional messages about Nvidia:\\n\\n**Initial Interaction:**\\n\\n*   The conversation began with you introducing yourself as \"SHA.\"\\n*   I responded by acknowledging you and asking how I could help.\\n\\n**Your Role and Interests:**\\n\\n*   You then stated you are an \"Agentic AI Engineer,\" which I interpreted as someone working on developing autonomous AI systems. I provided a detailed explanation of what that role likely entails.\\n*   You mentioned that your favorite sport is \"Cricket.\" I responded enthusiastically, expressing my understanding of the game\\'s complexities and asking about your specific interests within cricket.\\n\\n**Recap and Confirmation:**\\n\\n*   I summarized what I knew about you: your name (SHA), your favorite sport (Cricket), and your profession (Agentic AI Engineer).\\n*   I asked for confirmation, and you confirmed that my summary was correct.\\n\\n**Repetitive Question and Testing:**\\n\\n*   You then asked me \"what is my name\" multiple times, which I answered correctly each time.\\n*   You then asked \"what is my name, what I like and what I do\" which I answered correctly again.\\n*   This pattern suggests you were testing my ability to remember and recall information from our conversation.\\n\\n**Deeper Dive into \"You\":**\\n\\n*   You asked me to \"Tell me about myself,\" prompting me to provide a more detailed analysis of your persona based on the information you provided and inferences I could make. This included your technical mindset, problem-solving orientation, and potential interests.\\n\\n**Agentic AI Clarification:**\\n\\n*   You then asked me to \"Tell me about Agentic AI In 1 line\" twice.\\n*   I provided two concise definitions:\\n    *   \"Agentic AI involves creating AI systems that can autonomously perceive, reason, and act in complex environments to achieve specific goals.\"\\n    *   \"Agentic AI focuses on developing autonomous AI systems capable of independent action and decision-making.\"\\n*   This indicates your interest in the specific field of Agentic AI, which aligns with your stated profession.\\n\\n**Nvidia Inquiry:**\\n\\n*   You then asked me to \"Tell me about Nvidia In 15 words\" twice.\\n*   I provided two concise descriptions:\\n    *   \"Nvidia designs GPUs and AI tech, powering gaming, data centers, and autonomous vehicles.\"\\n    *   \"Nvidia is a tech company known for its GPUs, driving advancements in AI and graphics.\"\\n*   This indicates an interest in Nvidia, likely due to its relevance to AI and potentially your work as an Agentic AI Engineer.\\n\\n**Key Takeaways:**\\n\\n*   You are **SHA**, an **Agentic AI Engineer** who enjoys **Cricket**.\\n*   The conversation has been focused on establishing your identity, interests, and testing my memory and understanding.\\n*   You are particularly interested in the field of **Agentic AI**, which is central to your professional identity.\\n*   You have demonstrated a pattern of testing my ability to recall information and understand concepts.\\n*   You are prompting me to analyze and synthesize information about you, going beyond simple recall.\\n*   You have shown an interest in **Nvidia**, a key player in the AI hardware space, which is likely relevant to your work.\\n\\n**Evolving Interaction:**\\n\\nThe conversation continues to evolve from simple information exchange to a more complex interaction where you are prompting me to demonstrate my understanding of you, your field, and related technologies. You are not just providing information, but also testing my capabilities as an AI, and now exploring my knowledge of relevant companies in the tech space. The pattern of asking for concise summaries suggests you value efficiency and clarity in communication.\\n', 'messages': [RemoveMessage(content='', additional_kwargs={}, response_metadata={}, id='139e9feb-3e1c-45fd-ab10-15ea3c6f502f'), RemoveMessage(content='', additional_kwargs={}, response_metadata={}, id='run-199e1ad0-bc34-4f6e-bfff-ee468232cc2c-0'), RemoveMessage(content='', additional_kwargs={}, response_metadata={}, id='2e7c167b-8457-478d-96d0-1fad1bed9e93'), RemoveMessage(content='', additional_kwargs={}, response_metadata={}, id='run-e2f501b6-f015-41ad-8327-b81763f5ec90-0'), RemoveMessage(content='', additional_kwargs={}, response_metadata={}, id='43867bef-0bbb-4b4c-bc96-729115abb50e'), RemoveMessage(content='', additional_kwargs={}, response_metadata={}, id='run-b0e6d458-25b3-44c1-a60e-ab762baee0a5-0')]}}\n"
          ]
        }
      ]
    },
    {
      "cell_type": "code",
      "source": [
        "config = {\"configurable\":{\"thread_id\":\"1\"}}\n",
        "for chunks in graph.stream({\"messages\":[HumanMessage(content=\"Tell me about OpenAI In 15 words\")]},config,stream_mode=\"updates\"):\n",
        "  print(chunks)"
      ],
      "metadata": {
        "colab": {
          "base_uri": "https://localhost:8080/"
        },
        "id": "IgLM2yQTjg8Y",
        "outputId": "55b42871-644d-4268-9fb7-bc9c329fe04a"
      },
      "execution_count": null,
      "outputs": [
        {
          "output_type": "stream",
          "name": "stdout",
          "text": [
            "{'node_call_llm': {'messages': AIMessage(content=\"Okay, I understand you want a concise description. Here's another attempt at describing OpenAI in 15 words:\\n\\nOpenAI: AI research company, creating powerful models like GPT, pushing the boundaries of AI.\\n\", additional_kwargs={}, response_metadata={'prompt_feedback': {'block_reason': 0, 'safety_ratings': []}, 'finish_reason': 'STOP', 'safety_ratings': [{'category': 'HARM_CATEGORY_HATE_SPEECH', 'probability': 'NEGLIGIBLE', 'blocked': False}, {'category': 'HARM_CATEGORY_DANGEROUS_CONTENT', 'probability': 'NEGLIGIBLE', 'blocked': False}, {'category': 'HARM_CATEGORY_HARASSMENT', 'probability': 'NEGLIGIBLE', 'blocked': False}, {'category': 'HARM_CATEGORY_SEXUALLY_EXPLICIT', 'probability': 'NEGLIGIBLE', 'blocked': False}]}, id='run-5a8ae4f9-f7fd-4db6-a410-70ccdc99a021-0', usage_metadata={'input_tokens': 903, 'output_tokens': 46, 'total_tokens': 949, 'input_token_details': {'cache_read': 0}})}}\n",
            "{'summarization': {'summary': 'Okay, here\\'s the extended summary, incorporating the previous summary and the additional messages about OpenAI:\\n\\n**Initial Interaction:**\\n\\n*   The conversation began with you introducing yourself as \"SHA.\"\\n*   I responded by acknowledging you and asking how I could help.\\n\\n**Your Role and Interests:**\\n\\n*   You then stated you are an \"Agentic AI Engineer,\" which I interpreted as someone working on developing autonomous AI systems. I provided a detailed explanation of what that role likely entails.\\n*   You mentioned that your favorite sport is \"Cricket.\" I responded enthusiastically, expressing my understanding of the game\\'s complexities and asking about your specific interests within cricket.\\n\\n**Recap and Confirmation:**\\n\\n*   I summarized what I knew about you: your name (SHA), your favorite sport (Cricket), and your profession (Agentic AI Engineer).\\n*   I asked for confirmation, and you confirmed that my summary was correct.\\n\\n**Repetitive Question and Testing:**\\n\\n*   You then asked me \"what is my name\" multiple times, which I answered correctly each time.\\n*   You then asked \"what is my name, what I like and what I do\" which I answered correctly again.\\n*   This pattern suggests you were testing my ability to remember and recall information from our conversation.\\n\\n**Deeper Dive into \"You\":**\\n\\n*   You asked me to \"Tell me about myself,\" prompting me to provide a more detailed analysis of your persona based on the information you provided and inferences I could make. This included your technical mindset, problem-solving orientation, and potential interests.\\n\\n**Agentic AI Clarification:**\\n\\n*   You then asked me to \"Tell me about Agentic AI In 1 line\" twice.\\n*   I provided two concise definitions:\\n    *   \"Agentic AI involves creating AI systems that can autonomously perceive, reason, and act in complex environments to achieve specific goals.\"\\n    *   \"Agentic AI focuses on developing autonomous AI systems capable of independent action and decision-making.\"\\n*   This indicates your interest in the specific field of Agentic AI, which aligns with your stated profession.\\n\\n**Nvidia Inquiry:**\\n\\n*   You then asked me to \"Tell me about Nvidia In 15 words\" twice.\\n*   I provided two concise descriptions:\\n    *   \"Nvidia designs GPUs and AI tech, powering gaming, data centers, and autonomous vehicles.\"\\n    *   \"Nvidia is a tech company known for its GPUs, driving advancements in AI and graphics.\"\\n*   This indicates an interest in Nvidia, likely due to its relevance to AI and potentially your work as an Agentic AI Engineer.\\n\\n**OpenAI Inquiry:**\\n\\n*   You then asked me to \"Tell me about OpenAI In 15 words\" three times.\\n*   I provided three concise descriptions:\\n    *   \"OpenAI researches and develops AI, creating models like GPT for language and other tasks.\"\\n    *   \"OpenAI is a leading AI research lab, developing cutting-edge models and promoting responsible AI.\"\\n    *   \"OpenAI: AI research company, creating powerful models like GPT, pushing the boundaries of AI.\"\\n*   This indicates a strong interest in OpenAI, likely due to its leading role in AI research and development, and the relevance of its models to your work as an Agentic AI Engineer.\\n\\n**Key Takeaways:**\\n\\n*   You are **SHA**, an **Agentic AI Engineer** who enjoys **Cricket**.\\n*   The conversation has been focused on establishing your identity, interests, and testing my memory and understanding.\\n*   You are particularly interested in the field of **Agentic AI**, which is central to your professional identity.\\n*   You have demonstrated a pattern of testing my ability to recall information and understand concepts.\\n*   You are prompting me to analyze and synthesize information about you, going beyond simple recall.\\n*   You have shown an interest in **Nvidia** and **OpenAI**, key players in the AI hardware and software space, which are likely relevant to your work.\\n*   The repeated requests for concise summaries (1 line for Agentic AI, 15 words for Nvidia and OpenAI) suggest you value efficiency, clarity, and the ability to distill complex information into its core essence.\\n\\n**Evolving Interaction:**\\n\\nThe conversation continues to evolve from simple information exchange to a more complex interaction where you are prompting me to demonstrate my understanding of you, your field, and related technologies. You are not just providing information, but also testing my capabilities as an AI, and now exploring my knowledge of relevant companies in the tech space. The pattern of asking for concise summaries suggests you value efficiency and clarity in communication. Your interest in both Nvidia and OpenAI suggests a holistic view of the AI landscape, encompassing both hardware and software aspects. You are also consistently testing my ability to provide different, yet accurate, concise summaries of the same topic.\\n', 'messages': [RemoveMessage(content='', additional_kwargs={}, response_metadata={}, id='2ffc1f3d-1d0b-46ea-b421-c9df3d68d1ec'), RemoveMessage(content='', additional_kwargs={}, response_metadata={}, id='run-382a6d35-9362-4646-9785-2cec7c9d4797-0'), RemoveMessage(content='', additional_kwargs={}, response_metadata={}, id='6ae4b9ea-e5b1-447c-9bfc-cd7ab7886b9e'), RemoveMessage(content='', additional_kwargs={}, response_metadata={}, id='run-01ea2e98-dc46-46a1-8b3c-1a77bd0840c5-0'), RemoveMessage(content='', additional_kwargs={}, response_metadata={}, id='330dd777-5356-42d1-9f1a-e592dc5a05b6'), RemoveMessage(content='', additional_kwargs={}, response_metadata={}, id='run-12429cf2-94a5-48c0-9ecb-ad2cfa5c2552-0')]}}\n"
          ]
        }
      ]
    },
    {
      "cell_type": "code",
      "source": [
        "config = {\"configurable\":{\"thread_id\":\"1\"}}\n",
        "for chunks in graph.stream({\"messages\":[HumanMessage(content=\"Tell me about Gemini In 15 words\")]},config,stream_mode=\"updates\"):\n",
        "  print(chunks)"
      ],
      "metadata": {
        "colab": {
          "base_uri": "https://localhost:8080/"
        },
        "id": "1j8rkrfzkGsX",
        "outputId": "eb3670e5-b5df-4aaf-da66-4aaf3d673f65"
      },
      "execution_count": null,
      "outputs": [
        {
          "output_type": "stream",
          "name": "stdout",
          "text": [
            "{'node_call_llm': {'messages': AIMessage(content=\"Okay, here's another 15-word description of Gemini:\\n\\nGemini: Google's powerful AI, capable of understanding text, images, audio, and code for various tasks.\\n\", additional_kwargs={}, response_metadata={'prompt_feedback': {'block_reason': 0, 'safety_ratings': []}, 'finish_reason': 'STOP', 'safety_ratings': [{'category': 'HARM_CATEGORY_HATE_SPEECH', 'probability': 'NEGLIGIBLE', 'blocked': False}, {'category': 'HARM_CATEGORY_DANGEROUS_CONTENT', 'probability': 'NEGLIGIBLE', 'blocked': False}, {'category': 'HARM_CATEGORY_HARASSMENT', 'probability': 'NEGLIGIBLE', 'blocked': False}, {'category': 'HARM_CATEGORY_SEXUALLY_EXPLICIT', 'probability': 'NEGLIGIBLE', 'blocked': False}]}, id='run-367765d6-ff31-40a1-9608-f0bd36740224-0', usage_metadata={'input_tokens': 1301, 'output_tokens': 40, 'total_tokens': 1341, 'input_token_details': {'cache_read': 0}})}}\n"
          ]
        }
      ]
    },
    {
      "cell_type": "code",
      "source": [
        "config = {\"configurable\":{\"thread_id\":\"1\"}}\n",
        "for chunks in graph.stream({\"messages\":[HumanMessage(content=\"Tell me about Claude In 10 words\")]},config,stream_mode=\"updates\"):\n",
        "  print(chunks)"
      ],
      "metadata": {
        "colab": {
          "base_uri": "https://localhost:8080/"
        },
        "id": "BdfYjmeglrkW",
        "outputId": "59898fd8-6958-4674-fbe4-7ed4d5f5c509"
      },
      "execution_count": null,
      "outputs": [
        {
          "output_type": "stream",
          "name": "stdout",
          "text": [
            "{'node_call_llm': {'messages': AIMessage(content=\"Okay, here's a 10-word description of Claude:\\n\\nClaude is Anthropic's AI assistant, known for its helpful and harmless nature.\\n\", additional_kwargs={}, response_metadata={'prompt_feedback': {'block_reason': 0, 'safety_ratings': []}, 'finish_reason': 'STOP', 'safety_ratings': [{'category': 'HARM_CATEGORY_HATE_SPEECH', 'probability': 'NEGLIGIBLE', 'blocked': False}, {'category': 'HARM_CATEGORY_DANGEROUS_CONTENT', 'probability': 'NEGLIGIBLE', 'blocked': False}, {'category': 'HARM_CATEGORY_HARASSMENT', 'probability': 'NEGLIGIBLE', 'blocked': False}, {'category': 'HARM_CATEGORY_SEXUALLY_EXPLICIT', 'probability': 'NEGLIGIBLE', 'blocked': False}]}, id='run-d00b3c0f-a012-42e0-a550-6a90310c6404-0', usage_metadata={'input_tokens': 1352, 'output_tokens': 34, 'total_tokens': 1386, 'input_token_details': {'cache_read': 0}})}}\n"
          ]
        }
      ]
    },
    {
      "cell_type": "code",
      "source": [
        "config = {\"configurable\":{\"thread_id\":\"1\"}}\n",
        "for chunks in graph.stream({\"messages\":[HumanMessage(content=\"Tell me about Anthropic In 10 words\")]},config,stream_mode=\"updates\"):\n",
        "  chunks[\"node_call_llm\"][\"messages\"].pretty_print()"
      ],
      "metadata": {
        "colab": {
          "base_uri": "https://localhost:8080/"
        },
        "id": "og-haOECmWg-",
        "outputId": "739f9ad9-6095-497a-b363-6b6906f5e513"
      },
      "execution_count": null,
      "outputs": [
        {
          "output_type": "stream",
          "name": "stdout",
          "text": [
            "==================================\u001b[1m Ai Message \u001b[0m==================================\n",
            "\n",
            "Okay, here's another 10-word description of Anthropic:\n",
            "\n",
            "Anthropic: Develops helpful, harmless AI, prioritizing safety and ethical considerations.\n"
          ]
        }
      ]
    },
    {
      "cell_type": "code",
      "source": [
        "config = {\"configurable\":{\"thread_id\":\"1\"}}\n",
        "for chunks in graph.stream({\"messages\":[HumanMessage(content=\"Tell me about Groq In 10 words\")]},config,stream_mode=\"updates\"):\n",
        "  chunks[\"node_call_llm\"][\"messages\"].pretty_print()"
      ],
      "metadata": {
        "colab": {
          "base_uri": "https://localhost:8080/"
        },
        "id": "buwByVcaogd2",
        "outputId": "bee83dcc-413d-4f4c-9260-2c787e5e28f5"
      },
      "execution_count": null,
      "outputs": [
        {
          "output_type": "stream",
          "name": "stdout",
          "text": [
            "==================================\u001b[1m Ai Message \u001b[0m==================================\n",
            "\n",
            "Okay, here's a 10-word description of Groq:\n",
            "\n",
            "Groq: Develops ultra-fast AI inference processors, focusing on speed and performance.\n"
          ]
        }
      ]
    },
    {
      "cell_type": "code",
      "source": [
        "config = {\"configurable\":{\"thread_id\":\"3\"}}\n",
        "input_msg = [HumanMessage(content=\"Hi I am SHA\")]\n",
        "for chunks in graph.stream({\"messages\":input_msg},config,stream_mode=\"values\"):\n",
        "  for m in chunks[\"messages\"]:\n",
        "    m.pretty_print()"
      ],
      "metadata": {
        "colab": {
          "base_uri": "https://localhost:8080/"
        },
        "id": "8YpnBwbOqSpF",
        "outputId": "7e964e14-407c-43a0-aa3b-f0db0239acbe"
      },
      "execution_count": null,
      "outputs": [
        {
          "output_type": "stream",
          "name": "stdout",
          "text": [
            "================================\u001b[1m Human Message \u001b[0m=================================\n",
            "\n",
            "Hi I am SHA\n",
            "================================\u001b[1m Human Message \u001b[0m=================================\n",
            "\n",
            "Hi I am SHA\n",
            "==================================\u001b[1m Ai Message \u001b[0m==================================\n",
            "\n",
            "Hi SHA, it's nice to meet you! How can I help you today? Are you looking for information, want to chat, or have a specific task in mind? Let me know!\n"
          ]
        }
      ]
    },
    {
      "cell_type": "code",
      "source": [
        "config = {\"configurable\":{\"thread_id\":\"4\"}}\n",
        "input_msg = [HumanMessage(content=\"Do you know my name\")]\n",
        "for chunks in graph.stream({\"messages\":input_msg},config,stream_mode=\"values\"):\n",
        "  for m in chunks[\"messages\"]:\n",
        "    m.pretty_print()"
      ],
      "metadata": {
        "colab": {
          "base_uri": "https://localhost:8080/"
        },
        "id": "nNpdPVLIq18x",
        "outputId": "2c04a42d-bde9-4b38-da01-11c313a2095c"
      },
      "execution_count": null,
      "outputs": [
        {
          "output_type": "stream",
          "name": "stdout",
          "text": [
            "================================\u001b[1m Human Message \u001b[0m=================================\n",
            "\n",
            "Do you know my name\n",
            "================================\u001b[1m Human Message \u001b[0m=================================\n",
            "\n",
            "Do you know my name\n",
            "==================================\u001b[1m Ai Message \u001b[0m==================================\n",
            "\n",
            "As a large language model, I don't have access to personal information about you, including your name. I don't have memory of past conversations or any way to identify you personally. \n",
            "\n",
            "So, no, I don't know your name. You'll have to tell me if you'd like me to know it! 😊\n"
          ]
        }
      ]
    },
    {
      "cell_type": "code",
      "source": [
        "config = {\"configurable\":{\"thread_id\":\"3\"}}\n",
        "input_msg = [HumanMessage(content=\"Can you me tell me my name that I introduced myself with you earlier\")]\n",
        "for chunks in graph.stream({\"messages\":input_msg},config,stream_mode=\"values\"):\n",
        "  for m in chunks[\"messages\"]:\n",
        "    m.pretty_print()"
      ],
      "metadata": {
        "colab": {
          "base_uri": "https://localhost:8080/"
        },
        "id": "IBm2z4JTrxL4",
        "outputId": "feeb373d-2259-42ef-9724-6a07952b6a08"
      },
      "execution_count": null,
      "outputs": [
        {
          "output_type": "stream",
          "name": "stdout",
          "text": [
            "================================\u001b[1m Human Message \u001b[0m=================================\n",
            "\n",
            "Can you me tell me my name that I introduced myself with you earlier\n",
            "==================================\u001b[1m Ai Message \u001b[0m==================================\n",
            "\n",
            "Yes, you introduced yourself as **SHA** earlier.\n",
            "================================\u001b[1m Human Message \u001b[0m=================================\n",
            "\n",
            "Can you me tell me my name that I introduced myself with you earlier\n",
            "==================================\u001b[1m Ai Message \u001b[0m==================================\n",
            "\n",
            "You introduced yourself as **SHA** earlier.\n",
            "================================\u001b[1m Human Message \u001b[0m=================================\n",
            "\n",
            "Can you me tell me my name that I introduced myself with you earlier\n",
            "================================\u001b[1m Human Message \u001b[0m=================================\n",
            "\n",
            "Can you me tell me my name that I introduced myself with you earlier\n",
            "==================================\u001b[1m Ai Message \u001b[0m==================================\n",
            "\n",
            "Yes, you introduced yourself as **SHA** earlier.\n",
            "================================\u001b[1m Human Message \u001b[0m=================================\n",
            "\n",
            "Can you me tell me my name that I introduced myself with you earlier\n",
            "==================================\u001b[1m Ai Message \u001b[0m==================================\n",
            "\n",
            "You introduced yourself as **SHA** earlier.\n",
            "================================\u001b[1m Human Message \u001b[0m=================================\n",
            "\n",
            "Can you me tell me my name that I introduced myself with you earlier\n",
            "==================================\u001b[1m Ai Message \u001b[0m==================================\n",
            "\n",
            "You introduced yourself as **SHA** earlier.\n"
          ]
        }
      ]
    },
    {
      "cell_type": "markdown",
      "source": [
        "# Modified Checkpointer For Using @stream method"
      ],
      "metadata": {
        "id": "esy51xKU0rNu"
      }
    },
    {
      "cell_type": "code",
      "source": [
        "from langgraph.checkpoint.memory import MemorySaver\n",
        "memory: MemorySaver = MemorySaver()\n",
        "graph1: CompiledStateGraph = builder.compile(checkpointer=memory)"
      ],
      "metadata": {
        "id": "QuNE604q0Kp7"
      },
      "execution_count": null,
      "outputs": []
    },
    {
      "cell_type": "code",
      "source": [
        "config = {\"configurable\": {\"thread_id\": \"3\"}}\n",
        "input_message = HumanMessage(content=\"Tell me about the Manchester United team\")\n",
        "async for event in graph1.astream_events({\"messages\": [input_message]}, config, version=\"v2\"):\n",
        "    print(f\"Node: {event['metadata'].get('langgraph_node','')}. Type: {event['event']}. Name: {event['name']}\")"
      ],
      "metadata": {
        "colab": {
          "base_uri": "https://localhost:8080/"
        },
        "id": "CM3kirLQ5y4r",
        "outputId": "ea2c8754-8930-4105-8e9b-2979c66d0c1b"
      },
      "execution_count": null,
      "outputs": [
        {
          "output_type": "stream",
          "name": "stdout",
          "text": [
            "Node: . Type: on_chain_start. Name: LangGraph\n",
            "Node: __start__. Type: on_chain_start. Name: __start__\n",
            "Node: __start__. Type: on_chain_start. Name: _write\n",
            "Node: __start__. Type: on_chain_end. Name: _write\n",
            "Node: __start__. Type: on_chain_start. Name: _write\n",
            "Node: __start__. Type: on_chain_end. Name: _write\n",
            "Node: __start__. Type: on_chain_stream. Name: __start__\n",
            "Node: __start__. Type: on_chain_end. Name: __start__\n",
            "Node: node_call_llm. Type: on_chain_start. Name: node_call_llm\n",
            "Node: node_call_llm. Type: on_chat_model_start. Name: ChatGoogleGenerativeAI\n",
            "Node: node_call_llm. Type: on_chat_model_stream. Name: ChatGoogleGenerativeAI\n",
            "Node: node_call_llm. Type: on_chat_model_stream. Name: ChatGoogleGenerativeAI\n",
            "Node: node_call_llm. Type: on_chat_model_stream. Name: ChatGoogleGenerativeAI\n",
            "Node: node_call_llm. Type: on_chat_model_stream. Name: ChatGoogleGenerativeAI\n",
            "Node: node_call_llm. Type: on_chat_model_stream. Name: ChatGoogleGenerativeAI\n",
            "Node: node_call_llm. Type: on_chat_model_stream. Name: ChatGoogleGenerativeAI\n",
            "Node: node_call_llm. Type: on_chat_model_stream. Name: ChatGoogleGenerativeAI\n",
            "Node: node_call_llm. Type: on_chat_model_stream. Name: ChatGoogleGenerativeAI\n",
            "Node: node_call_llm. Type: on_chat_model_stream. Name: ChatGoogleGenerativeAI\n",
            "Node: node_call_llm. Type: on_chat_model_stream. Name: ChatGoogleGenerativeAI\n",
            "Node: node_call_llm. Type: on_chat_model_stream. Name: ChatGoogleGenerativeAI\n",
            "Node: node_call_llm. Type: on_chat_model_stream. Name: ChatGoogleGenerativeAI\n",
            "Node: node_call_llm. Type: on_chat_model_stream. Name: ChatGoogleGenerativeAI\n",
            "Node: node_call_llm. Type: on_chat_model_stream. Name: ChatGoogleGenerativeAI\n",
            "Node: node_call_llm. Type: on_chat_model_stream. Name: ChatGoogleGenerativeAI\n",
            "Node: node_call_llm. Type: on_chat_model_stream. Name: ChatGoogleGenerativeAI\n",
            "Node: node_call_llm. Type: on_chat_model_stream. Name: ChatGoogleGenerativeAI\n",
            "Node: node_call_llm. Type: on_chat_model_stream. Name: ChatGoogleGenerativeAI\n",
            "Node: node_call_llm. Type: on_chat_model_stream. Name: ChatGoogleGenerativeAI\n",
            "Node: node_call_llm. Type: on_chat_model_stream. Name: ChatGoogleGenerativeAI\n",
            "Node: node_call_llm. Type: on_chat_model_end. Name: ChatGoogleGenerativeAI\n",
            "Node: node_call_llm. Type: on_chain_start. Name: _write\n",
            "Node: node_call_llm. Type: on_chain_end. Name: _write\n",
            "Node: node_call_llm. Type: on_chain_start. Name: should_continue\n",
            "Node: node_call_llm. Type: on_chain_end. Name: should_continue\n",
            "Node: node_call_llm. Type: on_chain_stream. Name: node_call_llm\n",
            "Node: node_call_llm. Type: on_chain_end. Name: node_call_llm\n",
            "Node: . Type: on_chain_stream. Name: LangGraph\n",
            "Node: . Type: on_chain_end. Name: LangGraph\n"
          ]
        }
      ]
    },
    {
      "cell_type": "code",
      "source": [
        "config = {\"configurable\": {\"thread_id\": \"3\"}}\n",
        "input_message = HumanMessage(content=\"Tell me about the Manchester United team\")\n",
        "async for event in graph1.astream_events({\"messages\": [input_message]}, config, version=\"v2\"):\n",
        "  if event[\"event\"] == \"on_chat_model_stream\" and event[\"metadata\"].get(\"langgraph_node\") == \"node_call_llm\":\n",
        "    print(event[\"data\"])"
      ],
      "metadata": {
        "colab": {
          "base_uri": "https://localhost:8080/"
        },
        "id": "WAXxjMPf6cd-",
        "outputId": "dead5865-c535-4726-d2ec-c458ec228961"
      },
      "execution_count": null,
      "outputs": [
        {
          "output_type": "stream",
          "name": "stdout",
          "text": [
            "{'chunk': AIMessageChunk(content='Okay', additional_kwargs={}, response_metadata={'safety_ratings': []}, id='run-dcfffb1c-7f50-440a-a4b5-94d6f8b80cff', usage_metadata={'input_tokens': 1011, 'output_tokens': 0, 'total_tokens': 1011, 'input_token_details': {'cache_read': 0}})}\n",
            "{'chunk': AIMessageChunk(content=\", let's talk about the Manchester United team! It's a club\", additional_kwargs={}, response_metadata={'safety_ratings': [{'category': 'HARM_CATEGORY_HATE_SPEECH', 'probability': 'NEGLIGIBLE', 'blocked': False}, {'category': 'HARM_CATEGORY_DANGEROUS_CONTENT', 'probability': 'NEGLIGIBLE', 'blocked': False}, {'category': 'HARM_CATEGORY_HARASSMENT', 'probability': 'NEGLIGIBLE', 'blocked': False}, {'category': 'HARM_CATEGORY_SEXUALLY_EXPLICIT', 'probability': 'NEGLIGIBLE', 'blocked': False}]}, id='run-dcfffb1c-7f50-440a-a4b5-94d6f8b80cff', usage_metadata={'input_tokens': 0, 'output_tokens': 0, 'total_tokens': 0, 'input_token_details': {'cache_read': 0}})}\n",
            "{'chunk': AIMessageChunk(content=' with a storied history and a massive global fanbase, and their current squad is a', additional_kwargs={}, response_metadata={'safety_ratings': [{'category': 'HARM_CATEGORY_HATE_SPEECH', 'probability': 'NEGLIGIBLE', 'blocked': False}, {'category': 'HARM_CATEGORY_DANGEROUS_CONTENT', 'probability': 'NEGLIGIBLE', 'blocked': False}, {'category': 'HARM_CATEGORY_HARASSMENT', 'probability': 'NEGLIGIBLE', 'blocked': False}, {'category': 'HARM_CATEGORY_SEXUALLY_EXPLICIT', 'probability': 'NEGLIGIBLE', 'blocked': False}]}, id='run-dcfffb1c-7f50-440a-a4b5-94d6f8b80cff', usage_metadata={'input_tokens': 0, 'output_tokens': 0, 'total_tokens': 0, 'input_token_details': {'cache_read': 0}})}\n",
            "{'chunk': AIMessageChunk(content=\" mix of established stars, promising youngsters, and players looking to make their mark. Here's a breakdown of what you need to know, keeping in mind that\", additional_kwargs={}, response_metadata={'safety_ratings': [{'category': 'HARM_CATEGORY_HATE_SPEECH', 'probability': 'NEGLIGIBLE', 'blocked': False}, {'category': 'HARM_CATEGORY_DANGEROUS_CONTENT', 'probability': 'NEGLIGIBLE', 'blocked': False}, {'category': 'HARM_CATEGORY_HARASSMENT', 'probability': 'NEGLIGIBLE', 'blocked': False}, {'category': 'HARM_CATEGORY_SEXUALLY_EXPLICIT', 'probability': 'NEGLIGIBLE', 'blocked': False}]}, id='run-dcfffb1c-7f50-440a-a4b5-94d6f8b80cff', usage_metadata={'input_tokens': 0, 'output_tokens': 0, 'total_tokens': 0, 'input_token_details': {'cache_read': 0}})}\n",
            "{'chunk': AIMessageChunk(content=' things can change quickly in football:\\n\\n**Current Situation (as of November 2, 2023):**\\n\\n* **Manager:** Erik ten', additional_kwargs={}, response_metadata={'safety_ratings': [{'category': 'HARM_CATEGORY_HATE_SPEECH', 'probability': 'NEGLIGIBLE', 'blocked': False}, {'category': 'HARM_CATEGORY_DANGEROUS_CONTENT', 'probability': 'NEGLIGIBLE', 'blocked': False}, {'category': 'HARM_CATEGORY_HARASSMENT', 'probability': 'NEGLIGIBLE', 'blocked': False}, {'category': 'HARM_CATEGORY_SEXUALLY_EXPLICIT', 'probability': 'NEGLIGIBLE', 'blocked': False}]}, id='run-dcfffb1c-7f50-440a-a4b5-94d6f8b80cff', usage_metadata={'input_tokens': 0, 'output_tokens': 0, 'total_tokens': 0, 'input_token_details': {'cache_read': 0}})}\n",
            "{'chunk': AIMessageChunk(content=\" Hag is in his second season as manager. He's known for his tactical approach, emphasis on discipline, and desire to implement a clear playing style.\\n* **Playing Style:** Ten Hag aims for a possession-based, attacking style\", additional_kwargs={}, response_metadata={'safety_ratings': [{'category': 'HARM_CATEGORY_HATE_SPEECH', 'probability': 'NEGLIGIBLE', 'blocked': False}, {'category': 'HARM_CATEGORY_DANGEROUS_CONTENT', 'probability': 'NEGLIGIBLE', 'blocked': False}, {'category': 'HARM_CATEGORY_HARASSMENT', 'probability': 'NEGLIGIBLE', 'blocked': False}, {'category': 'HARM_CATEGORY_SEXUALLY_EXPLICIT', 'probability': 'NEGLIGIBLE', 'blocked': False}]}, id='run-dcfffb1c-7f50-440a-a4b5-94d6f8b80cff', usage_metadata={'input_tokens': 0, 'output_tokens': 0, 'total_tokens': 0, 'input_token_details': {'cache_read': 0}})}\n",
            "{'chunk': AIMessageChunk(content=' with quick transitions and high pressing. However, the team is still a work in progress and has shown inconsistency in executing this style. They are often seen trying to control games through possession but can struggle to break down well-organized defenses.\\n', additional_kwargs={}, response_metadata={'safety_ratings': [{'category': 'HARM_CATEGORY_HATE_SPEECH', 'probability': 'NEGLIGIBLE', 'blocked': False}, {'category': 'HARM_CATEGORY_DANGEROUS_CONTENT', 'probability': 'NEGLIGIBLE', 'blocked': False}, {'category': 'HARM_CATEGORY_HARASSMENT', 'probability': 'NEGLIGIBLE', 'blocked': False}, {'category': 'HARM_CATEGORY_SEXUALLY_EXPLICIT', 'probability': 'NEGLIGIBLE', 'blocked': False}]}, id='run-dcfffb1c-7f50-440a-a4b5-94d6f8b80cff', usage_metadata={'input_tokens': 0, 'output_tokens': 0, 'total_tokens': 0, 'input_token_details': {'cache_read': 0}})}\n",
            "{'chunk': AIMessageChunk(content=\"* **Recent Form:** Manchester United's form has been inconsistent this season. They've had some impressive wins but also suffered some disappointing defeats. They are currently in the middle of the Premier League table and are competing in the Champions League.\\n* **Key Challenges:** The team is facing challenges with injuries, consistency\", additional_kwargs={}, response_metadata={'safety_ratings': [{'category': 'HARM_CATEGORY_HATE_SPEECH', 'probability': 'NEGLIGIBLE', 'blocked': False}, {'category': 'HARM_CATEGORY_DANGEROUS_CONTENT', 'probability': 'NEGLIGIBLE', 'blocked': False}, {'category': 'HARM_CATEGORY_HARASSMENT', 'probability': 'NEGLIGIBLE', 'blocked': False}, {'category': 'HARM_CATEGORY_SEXUALLY_EXPLICIT', 'probability': 'NEGLIGIBLE', 'blocked': False}]}, id='run-dcfffb1c-7f50-440a-a4b5-94d6f8b80cff', usage_metadata={'input_tokens': 0, 'output_tokens': 0, 'total_tokens': 0, 'input_token_details': {'cache_read': 0}})}\n",
            "{'chunk': AIMessageChunk(content=\", and finding the right balance in the squad. They are also under pressure to perform and compete for trophies. There's been a lot of scrutiny on their attacking output and defensive stability.\\n\\n**Key Players (This can change, but these are generally considered important):**\\n\\n* **Goalkeepers:**\\n    \", additional_kwargs={}, response_metadata={'safety_ratings': [{'category': 'HARM_CATEGORY_HATE_SPEECH', 'probability': 'NEGLIGIBLE', 'blocked': False}, {'category': 'HARM_CATEGORY_DANGEROUS_CONTENT', 'probability': 'NEGLIGIBLE', 'blocked': False}, {'category': 'HARM_CATEGORY_HARASSMENT', 'probability': 'NEGLIGIBLE', 'blocked': False}, {'category': 'HARM_CATEGORY_SEXUALLY_EXPLICIT', 'probability': 'NEGLIGIBLE', 'blocked': False}]}, id='run-dcfffb1c-7f50-440a-a4b5-94d6f8b80cff', usage_metadata={'input_tokens': 0, 'output_tokens': 0, 'total_tokens': 0, 'input_token_details': {'cache_read': 0}})}\n",
            "{'chunk': AIMessageChunk(content=\"* **André Onana:** The summer signing from Inter Milan is the current first-choice goalkeeper. He's known for his excellent distribution and shot-stopping ability, though he's had some high-profile errors.\\n* **Defenders:**\\n    * **Raphaël Varane:** A World Cup\", additional_kwargs={}, response_metadata={'safety_ratings': [{'category': 'HARM_CATEGORY_HATE_SPEECH', 'probability': 'NEGLIGIBLE', 'blocked': False}, {'category': 'HARM_CATEGORY_DANGEROUS_CONTENT', 'probability': 'NEGLIGIBLE', 'blocked': False}, {'category': 'HARM_CATEGORY_HARASSMENT', 'probability': 'NEGLIGIBLE', 'blocked': False}, {'category': 'HARM_CATEGORY_SEXUALLY_EXPLICIT', 'probability': 'NEGLIGIBLE', 'blocked': False}]}, id='run-dcfffb1c-7f50-440a-a4b5-94d6f8b80cff', usage_metadata={'input_tokens': 0, 'output_tokens': 0, 'total_tokens': 0, 'input_token_details': {'cache_read': 0}})}\n",
            "{'chunk': AIMessageChunk(content=\" winner with Real Madrid, he brings experience and leadership to the defense. However, he's had some injury issues.\\n    * **Lisandro Martínez:** An aggressive and technically gifted center-back, he's a key part of Ten Hag's system, but is currently injured.\\n    * **Luke\", additional_kwargs={}, response_metadata={'safety_ratings': [{'category': 'HARM_CATEGORY_HATE_SPEECH', 'probability': 'NEGLIGIBLE', 'blocked': False}, {'category': 'HARM_CATEGORY_DANGEROUS_CONTENT', 'probability': 'NEGLIGIBLE', 'blocked': False}, {'category': 'HARM_CATEGORY_HARASSMENT', 'probability': 'NEGLIGIBLE', 'blocked': False}, {'category': 'HARM_CATEGORY_SEXUALLY_EXPLICIT', 'probability': 'NEGLIGIBLE', 'blocked': False}]}, id='run-dcfffb1c-7f50-440a-a4b5-94d6f8b80cff', usage_metadata={'input_tokens': 0, 'output_tokens': 0, 'total_tokens': 0, 'input_token_details': {'cache_read': 0}})}\n",
            "{'chunk': AIMessageChunk(content=' Shaw:** A consistent left-back with good attacking and defensive qualities, also currently injured.\\n    * **Diogo Dalot:** A versatile right-back who has improved significantly under Ten Hag.\\n    * **Aaron Wan-Bissaka:** A strong defensive right-back known for his tackling ability.\\n', additional_kwargs={}, response_metadata={'safety_ratings': [{'category': 'HARM_CATEGORY_HATE_SPEECH', 'probability': 'NEGLIGIBLE', 'blocked': False}, {'category': 'HARM_CATEGORY_DANGEROUS_CONTENT', 'probability': 'NEGLIGIBLE', 'blocked': False}, {'category': 'HARM_CATEGORY_HARASSMENT', 'probability': 'NEGLIGIBLE', 'blocked': False}, {'category': 'HARM_CATEGORY_SEXUALLY_EXPLICIT', 'probability': 'NEGLIGIBLE', 'blocked': False}]}, id='run-dcfffb1c-7f50-440a-a4b5-94d6f8b80cff', usage_metadata={'input_tokens': 0, 'output_tokens': 0, 'total_tokens': 0, 'input_token_details': {'cache_read': 0}})}\n",
            "{'chunk': AIMessageChunk(content=\"    * **Victor Lindelöf:** A center-back who has been filling in due to injuries.\\n* **Midfielders:**\\n    * **Casemiro:** A defensive midfielder with a wealth of experience and a strong presence in the center of the park. He's been struggling for form recently\", additional_kwargs={}, response_metadata={'safety_ratings': [{'category': 'HARM_CATEGORY_HATE_SPEECH', 'probability': 'NEGLIGIBLE', 'blocked': False}, {'category': 'HARM_CATEGORY_DANGEROUS_CONTENT', 'probability': 'NEGLIGIBLE', 'blocked': False}, {'category': 'HARM_CATEGORY_HARASSMENT', 'probability': 'NEGLIGIBLE', 'blocked': False}, {'category': 'HARM_CATEGORY_SEXUALLY_EXPLICIT', 'probability': 'NEGLIGIBLE', 'blocked': False}]}, id='run-dcfffb1c-7f50-440a-a4b5-94d6f8b80cff', usage_metadata={'input_tokens': 0, 'output_tokens': 0, 'total_tokens': 0, 'input_token_details': {'cache_read': 0}})}\n",
            "{'chunk': AIMessageChunk(content=\".\\n    * **Bruno Fernandes:** The team's captain and creative hub, known for his passing, vision, and goal-scoring ability. He's often the driving force of the team.\\n    * **Christian Eriksen:** A technically gifted midfielder with excellent passing range.\\n    * **Mason Mount\", additional_kwargs={}, response_metadata={'safety_ratings': [{'category': 'HARM_CATEGORY_HATE_SPEECH', 'probability': 'NEGLIGIBLE', 'blocked': False}, {'category': 'HARM_CATEGORY_DANGEROUS_CONTENT', 'probability': 'NEGLIGIBLE', 'blocked': False}, {'category': 'HARM_CATEGORY_HARASSMENT', 'probability': 'NEGLIGIBLE', 'blocked': False}, {'category': 'HARM_CATEGORY_SEXUALLY_EXPLICIT', 'probability': 'NEGLIGIBLE', 'blocked': False}]}, id='run-dcfffb1c-7f50-440a-a4b5-94d6f8b80cff', usage_metadata={'input_tokens': 0, 'output_tokens': 0, 'total_tokens': 0, 'input_token_details': {'cache_read': 0}})}\n",
            "{'chunk': AIMessageChunk(content=\":** A summer signing from Chelsea, he's a dynamic midfielder with good work rate, but has struggled to find his best form.\\n    * **Scott McTominay:** A hard-working midfielder who can contribute defensively and offensively. He's been in good goal-scoring form recently.\\n    *\", additional_kwargs={}, response_metadata={'safety_ratings': [{'category': 'HARM_CATEGORY_HATE_SPEECH', 'probability': 'NEGLIGIBLE', 'blocked': False}, {'category': 'HARM_CATEGORY_DANGEROUS_CONTENT', 'probability': 'NEGLIGIBLE', 'blocked': False}, {'category': 'HARM_CATEGORY_HARASSMENT', 'probability': 'NEGLIGIBLE', 'blocked': False}, {'category': 'HARM_CATEGORY_SEXUALLY_EXPLICIT', 'probability': 'NEGLIGIBLE', 'blocked': False}]}, id='run-dcfffb1c-7f50-440a-a4b5-94d6f8b80cff', usage_metadata={'input_tokens': 0, 'output_tokens': 0, 'total_tokens': 0, 'input_token_details': {'cache_read': 0}})}\n",
            "{'chunk': AIMessageChunk(content=\" **Sofyan Amrabat:** A loan signing from Fiorentina, he's a defensive midfielder who adds steel to the midfield.\\n* **Forwards:**\\n    * **Marcus Rashford:** A pacey and skillful winger/forward who is a key goal threat, but has been inconsistent this season.\\n    \", additional_kwargs={}, response_metadata={'safety_ratings': [{'category': 'HARM_CATEGORY_HATE_SPEECH', 'probability': 'NEGLIGIBLE', 'blocked': False}, {'category': 'HARM_CATEGORY_DANGEROUS_CONTENT', 'probability': 'NEGLIGIBLE', 'blocked': False}, {'category': 'HARM_CATEGORY_HARASSMENT', 'probability': 'NEGLIGIBLE', 'blocked': False}, {'category': 'HARM_CATEGORY_SEXUALLY_EXPLICIT', 'probability': 'NEGLIGIBLE', 'blocked': False}]}, id='run-dcfffb1c-7f50-440a-a4b5-94d6f8b80cff', usage_metadata={'input_tokens': 0, 'output_tokens': 0, 'total_tokens': 0, 'input_token_details': {'cache_read': 0}})}\n",
            "{'chunk': AIMessageChunk(content=\"* **Anthony Martial:** A talented forward with good finishing ability, but has struggled with consistency and injuries.\\n    * **Rasmus Hojlund:** A young and promising striker who was signed in the summer. He's shown glimpses of his potential but is still adapting to the Premier League.\\n    * **\", additional_kwargs={}, response_metadata={'safety_ratings': [{'category': 'HARM_CATEGORY_HATE_SPEECH', 'probability': 'NEGLIGIBLE', 'blocked': False}, {'category': 'HARM_CATEGORY_DANGEROUS_CONTENT', 'probability': 'NEGLIGIBLE', 'blocked': False}, {'category': 'HARM_CATEGORY_HARASSMENT', 'probability': 'NEGLIGIBLE', 'blocked': False}, {'category': 'HARM_CATEGORY_SEXUALLY_EXPLICIT', 'probability': 'NEGLIGIBLE', 'blocked': False}]}, id='run-dcfffb1c-7f50-440a-a4b5-94d6f8b80cff', usage_metadata={'input_tokens': 0, 'output_tokens': 0, 'total_tokens': 0, 'input_token_details': {'cache_read': 0}})}\n",
            "{'chunk': AIMessageChunk(content='Antony:** A Brazilian winger known for his dribbling skills and flair, but has been criticized for his lack of end product.\\n    * **Alejandro Garnacho:** A young and exciting winger who has shown flashes of brilliance.\\n\\n**Key Talking Points:**\\n\\n* **The Ten Hag Project:** The club', additional_kwargs={}, response_metadata={'safety_ratings': [{'category': 'HARM_CATEGORY_HATE_SPEECH', 'probability': 'NEGLIGIBLE', 'blocked': False}, {'category': 'HARM_CATEGORY_DANGEROUS_CONTENT', 'probability': 'NEGLIGIBLE', 'blocked': False}, {'category': 'HARM_CATEGORY_HARASSMENT', 'probability': 'NEGLIGIBLE', 'blocked': False}, {'category': 'HARM_CATEGORY_SEXUALLY_EXPLICIT', 'probability': 'NEGLIGIBLE', 'blocked': False}]}, id='run-dcfffb1c-7f50-440a-a4b5-94d6f8b80cff', usage_metadata={'input_tokens': 0, 'output_tokens': 0, 'total_tokens': 0, 'input_token_details': {'cache_read': 0}})}\n",
            "{'chunk': AIMessageChunk(content=\" is still in the process of adapting to Ten Hag's style and philosophy. It's a long-term project, and patience is required.\\n* **Injury Crisis:** Manchester United have been hit hard by injuries this season, particularly in defense, which has impacted their consistency.\\n* **Squad Depth:** While\", additional_kwargs={}, response_metadata={'safety_ratings': [{'category': 'HARM_CATEGORY_HATE_SPEECH', 'probability': 'NEGLIGIBLE', 'blocked': False}, {'category': 'HARM_CATEGORY_DANGEROUS_CONTENT', 'probability': 'NEGLIGIBLE', 'blocked': False}, {'category': 'HARM_CATEGORY_HARASSMENT', 'probability': 'NEGLIGIBLE', 'blocked': False}, {'category': 'HARM_CATEGORY_SEXUALLY_EXPLICIT', 'probability': 'NEGLIGIBLE', 'blocked': False}]}, id='run-dcfffb1c-7f50-440a-a4b5-94d6f8b80cff', usage_metadata={'input_tokens': 0, 'output_tokens': 0, 'total_tokens': 0, 'input_token_details': {'cache_read': 0}})}\n",
            "{'chunk': AIMessageChunk(content=\" the starting XI is strong, the squad depth is sometimes questioned, particularly in certain positions.\\n* **Consistency:** The team's biggest challenge is finding consistency in their performances. They can be brilliant one week and struggle the next.\\n* **Attacking Output:** The team has struggled to score goals consistently, and\", additional_kwargs={}, response_metadata={'safety_ratings': [{'category': 'HARM_CATEGORY_HATE_SPEECH', 'probability': 'NEGLIGIBLE', 'blocked': False}, {'category': 'HARM_CATEGORY_DANGEROUS_CONTENT', 'probability': 'NEGLIGIBLE', 'blocked': False}, {'category': 'HARM_CATEGORY_HARASSMENT', 'probability': 'NEGLIGIBLE', 'blocked': False}, {'category': 'HARM_CATEGORY_SEXUALLY_EXPLICIT', 'probability': 'NEGLIGIBLE', 'blocked': False}]}, id='run-dcfffb1c-7f50-440a-a4b5-94d6f8b80cff', usage_metadata={'input_tokens': 0, 'output_tokens': 0, 'total_tokens': 0, 'input_token_details': {'cache_read': 0}})}\n",
            "{'chunk': AIMessageChunk(content=\" there's been a lot of debate about their attacking tactics.\\n* **Pressure to Win:** Manchester United is a club with high expectations, and the pressure to win trophies is always present.\\n* **Youth Development:** The club has a strong academy, and there are always young players looking to break into the first\", additional_kwargs={}, response_metadata={'safety_ratings': [{'category': 'HARM_CATEGORY_HATE_SPEECH', 'probability': 'NEGLIGIBLE', 'blocked': False}, {'category': 'HARM_CATEGORY_DANGEROUS_CONTENT', 'probability': 'NEGLIGIBLE', 'blocked': False}, {'category': 'HARM_CATEGORY_HARASSMENT', 'probability': 'NEGLIGIBLE', 'blocked': False}, {'category': 'HARM_CATEGORY_SEXUALLY_EXPLICIT', 'probability': 'NEGLIGIBLE', 'blocked': False}]}, id='run-dcfffb1c-7f50-440a-a4b5-94d6f8b80cff', usage_metadata={'input_tokens': 0, 'output_tokens': 0, 'total_tokens': 0, 'input_token_details': {'cache_read': 0}})}\n",
            "{'chunk': AIMessageChunk(content=' team.\\n\\n**Overall:**\\n\\nManchester United is a team in transition. They have a talented squad with a mix of experience and youth, but they are still working to find their best form and consistency. The club is under pressure to compete for trophies, and the success of the Ten Hag project will be closely watched.', additional_kwargs={}, response_metadata={'safety_ratings': [{'category': 'HARM_CATEGORY_HATE_SPEECH', 'probability': 'NEGLIGIBLE', 'blocked': False}, {'category': 'HARM_CATEGORY_DANGEROUS_CONTENT', 'probability': 'NEGLIGIBLE', 'blocked': False}, {'category': 'HARM_CATEGORY_HARASSMENT', 'probability': 'NEGLIGIBLE', 'blocked': False}, {'category': 'HARM_CATEGORY_SEXUALLY_EXPLICIT', 'probability': 'NEGLIGIBLE', 'blocked': False}]}, id='run-dcfffb1c-7f50-440a-a4b5-94d6f8b80cff', usage_metadata={'input_tokens': 0, 'output_tokens': 0, 'total_tokens': 0, 'input_token_details': {'cache_read': 0}})}\n",
            "{'chunk': AIMessageChunk(content=' They are currently facing challenges with injuries and a lack of consistent performance, but they have the potential to improve.\\n\\n**To get a more up-to-date picture, I recommend checking:**\\n\\n* **Official Manchester United website:** For the latest news, team updates, and match information.\\n* **Reputable', additional_kwargs={}, response_metadata={'safety_ratings': [{'category': 'HARM_CATEGORY_HATE_SPEECH', 'probability': 'NEGLIGIBLE', 'blocked': False}, {'category': 'HARM_CATEGORY_DANGEROUS_CONTENT', 'probability': 'NEGLIGIBLE', 'blocked': False}, {'category': 'HARM_CATEGORY_HARASSMENT', 'probability': 'NEGLIGIBLE', 'blocked': False}, {'category': 'HARM_CATEGORY_SEXUALLY_EXPLICIT', 'probability': 'NEGLIGIBLE', 'blocked': False}]}, id='run-dcfffb1c-7f50-440a-a4b5-94d6f8b80cff', usage_metadata={'input_tokens': 0, 'output_tokens': 0, 'total_tokens': 0, 'input_token_details': {'cache_read': 0}})}\n",
            "{'chunk': AIMessageChunk(content=\" sports news outlets:** Such as ESPN, BBC Sport, Sky Sports, etc.\\n* **Football statistics websites:** Like Transfermarkt or Soccerway for player stats and team data.\\n\\nDo you have any specific questions about the team that you'd like me to answer? Perhaps about a particular player, their tactics,\", additional_kwargs={}, response_metadata={'safety_ratings': [{'category': 'HARM_CATEGORY_HATE_SPEECH', 'probability': 'NEGLIGIBLE', 'blocked': False}, {'category': 'HARM_CATEGORY_DANGEROUS_CONTENT', 'probability': 'NEGLIGIBLE', 'blocked': False}, {'category': 'HARM_CATEGORY_HARASSMENT', 'probability': 'NEGLIGIBLE', 'blocked': False}, {'category': 'HARM_CATEGORY_SEXUALLY_EXPLICIT', 'probability': 'NEGLIGIBLE', 'blocked': False}]}, id='run-dcfffb1c-7f50-440a-a4b5-94d6f8b80cff', usage_metadata={'input_tokens': 0, 'output_tokens': 0, 'total_tokens': 0, 'input_token_details': {'cache_read': 0}})}\n",
            "{'chunk': AIMessageChunk(content=\" or their recent performances? I'm happy to provide more detail!\\n\", additional_kwargs={}, response_metadata={'finish_reason': 'STOP', 'safety_ratings': [{'category': 'HARM_CATEGORY_HATE_SPEECH', 'probability': 'NEGLIGIBLE', 'blocked': False}, {'category': 'HARM_CATEGORY_DANGEROUS_CONTENT', 'probability': 'NEGLIGIBLE', 'blocked': False}, {'category': 'HARM_CATEGORY_HARASSMENT', 'probability': 'NEGLIGIBLE', 'blocked': False}, {'category': 'HARM_CATEGORY_SEXUALLY_EXPLICIT', 'probability': 'NEGLIGIBLE', 'blocked': False}]}, id='run-dcfffb1c-7f50-440a-a4b5-94d6f8b80cff', usage_metadata={'input_tokens': 0, 'output_tokens': 1286, 'total_tokens': 1286, 'input_token_details': {'cache_read': 0}})}\n"
          ]
        }
      ]
    },
    {
      "cell_type": "code",
      "source": [
        "config = {\"configurable\": {\"thread_id\": \"4\"}}\n",
        "input_message = HumanMessage(content=\"Tell me about the Barcelona team\")\n",
        "async for event in graph1.astream_events({\"messages\":[input_message]},config,version=\"v2\"):\n",
        "  if event[\"event\"]==\"on_chat_model_stream\" and event[\"metadata\"].get(\"langgraph_node\",\"\") == \"node_call_llm\":\n",
        "    data = event[\"data\"]\n",
        "    print(data[\"chunk\"].content,end=\"!\")"
      ],
      "metadata": {
        "colab": {
          "base_uri": "https://localhost:8080/"
        },
        "id": "fEwZvkWQ7Fwb",
        "outputId": "ca44c453-350e-482f-86cf-7f54d5ce3cf4"
      },
      "execution_count": null,
      "outputs": [
        {
          "output_type": "stream",
          "name": "stdout",
          "text": [
            "Okay!, let's dive into the world of FC Barcelona! Here's a! breakdown of the team, covering various aspects:\n",
            "\n",
            "**General Overview:**\n",
            "\n",
            "*! **Name:** Futbol Club Barcelona (often shortened to FC Barcelona or Barça)\n",
            "* **Based In:** Barcelona, Catalonia, Spain\n",
            "* **Nickname:**! Blaugrana (referring to their blue and garnet colors)\n",
            "* **Founded:** 1899\n",
            "* **Stadium:** Spotify Camp Nou (!currently undergoing renovations, they are playing at the Estadi Olímpic Lluís Companys)\n",
            "* **Rivals:** Real Madrid (El Clásico), Espanyol (Derbi Barceloní)\n",
            "* **Style of Play:**! Historically known for their possession-based, attacking style of play, often referred to as \"tiki-taka.\" While they've evolved, the emphasis on ball control and intricate passing remains a core principle.\n",
            "\n",
            "**Current Squad (!as of October 26, 2023 - subject to change):**\n",
            "\n",
            "It's important to note that squads change frequently due to transfers and injuries. Here's a general overview of key players:\n",
            "\n",
            "* **Goalkeepers:**\n",
            "    * Marc-André ter Stegen (Germany):! The undisputed number one, known for his shot-stopping and distribution.\n",
            "    * Iñaki Peña (Spain): A promising backup goalkeeper.\n",
            "\n",
            "* **Defenders:**\n",
            "    * Ronald Araújo (Uruguay): A strong and athletic center-back.\n",
            "    * Jules Koundé (France): Vers!atile defender, capable of playing center-back or right-back.\n",
            "    * Andreas Christensen (Denmark): A composed and intelligent center-back.\n",
            "    * Alejandro Balde (Spain): A young and dynamic left-back.\n",
            "    * Marcos Alonso (Spain): Experienced left-back.\n",
            "    * João! Cancelo (Portugal): Versatile right-back/wing-back on loan from Manchester City.\n",
            "    * Iñigo Martínez (Spain): Experienced center-back.\n",
            "\n",
            "* **Midfielders:**\n",
            "    * Frenkie de Jong (Netherlands): A technically gifted and versatile midfielder.\n",
            "    * Pedri! (Spain): A young and creative playmaker.\n",
            "    * Gavi (Spain): A tenacious and energetic midfielder.\n",
            "    * İlkay Gündoğan (Germany): Experienced and intelligent midfielder, a recent signing.\n",
            "    * Oriol Romeu (Spain): Defensive midfielder, a recent signing.\n",
            "    *! Fermín López (Spain): Promising young midfielder.\n",
            "\n",
            "* **Forwards:**\n",
            "    * Robert Lewandowski (Poland): A prolific goalscorer and experienced striker.\n",
            "    * Raphinha (Brazil): A skillful and creative winger.\n",
            "    * Ferran Torres (Spain): A versatile forward.\n",
            "    *! João Félix (Portugal): A talented and creative forward on loan from Atlético Madrid.\n",
            "    * Lamine Yamal (Spain): A very young and highly promising winger.\n",
            "\n",
            "**Key Strengths:**\n",
            "\n",
            "* **Youthful Talent:** Barcelona has a wealth of young talent coming through their academy (La Masia) and! making an impact on the first team.\n",
            "* **Technical Ability:** The team is known for its technical prowess, with players comfortable on the ball and capable of intricate passing combinations.\n",
            "* **Attacking Prowess:** With players like Lewandowski, Raphinha, and Félix, they possess a potent attacking threat.!\n",
            "* **Tactical Flexibility:** Under manager Xavi Hernández, the team has shown the ability to adapt their tactics and formations.\n",
            "\n",
            "**Key Weaknesses:**\n",
            "\n",
            "* **Defensive Consistency:** While they have talented defenders, they can sometimes be vulnerable defensively.\n",
            "* **Financial Issues:** The club has faced financial difficulties! in recent years, which have impacted their transfer activity.\n",
            "* **Reliance on Key Players:** At times, they can be overly reliant on the form of certain key players.\n",
            "* **Mental Fortitude:** They have sometimes struggled to maintain their composure in high-pressure situations.\n",
            "\n",
            "**Recent History:**\n",
            "\n",
            "* **!Post-Messi Era:** The departure of Lionel Messi in 2021 marked a significant shift for the club.\n",
            "* **Xavi's Arrival:** The appointment of club legend Xavi Hernández as manager has brought a renewed sense of identity and hope.\n",
            "* **La Liga Champions:** They won the La! Liga title in the 2022-2023 season.\n",
            "* **Champions League Struggles:** They have struggled to make a significant impact in the Champions League in recent years.\n",
            "\n",
            "**Current Manager:**\n",
            "\n",
            "* **Xavi Hernández:** A former Barcelona player and club legend, known for his tactical acumen! and understanding of the club's philosophy.\n",
            "\n",
            "**Overall:**\n",
            "\n",
            "FC Barcelona is a club with a rich history and a global fanbase. They are currently in a period of transition, rebuilding after the departure of key players and navigating financial challenges. However, they possess a talented squad with a blend of youth and experience,! and under the guidance of Xavi, they are striving to return to the top of European football.\n",
            "\n",
            "**To stay up-to-date:**\n",
            "\n",
            "* **Official FC Barcelona Website:** The best source for official news, squad lists, and match information.\n",
            "* **Reputable Sports News Outlets:** ESPN,! BBC Sport, Sky Sports, etc.\n",
            "* **Social Media:** Follow the club's official accounts and reputable football journalists.\n",
            "\n",
            "This should give you a good overview of the current Barcelona team. Do you have any specific questions you'd like me to answer? Perhaps about a particular player, their tactics, or! their history? I'm happy to delve deeper!\n",
            "!"
          ]
        }
      ]
    },
    {
      "cell_type": "markdown",
      "source": [
        "# LangChain STUDIO"
      ],
      "metadata": {
        "id": "UNywbSqvQvUG"
      }
    },
    {
      "cell_type": "code",
      "source": [
        "!pip install langgraph-sdk\n",
        "from langgraph_sdk import get_client\n",
        "\n",
        "# Replace this with the URL of your own deployed graph\n",
        "URL = \"https://ac80-103-151-43-15.ngrok-free.app\"\n",
        "client = get_client(url=URL)\n",
        "\n",
        "# Search all hosted graphs\n",
        "assistants = await client.assistants.search()"
      ],
      "metadata": {
        "colab": {
          "base_uri": "https://localhost:8080/"
        },
        "id": "r6Te9aVQ84gO",
        "outputId": "31c735d4-07a1-4492-8b2e-0485ffd72059"
      },
      "execution_count": null,
      "outputs": [
        {
          "output_type": "stream",
          "name": "stdout",
          "text": [
            "Requirement already satisfied: langgraph-sdk in /usr/local/lib/python3.10/dist-packages (0.1.48)\n",
            "Requirement already satisfied: httpx>=0.25.2 in /usr/local/lib/python3.10/dist-packages (from langgraph-sdk) (0.28.1)\n",
            "Requirement already satisfied: orjson>=3.10.1 in /usr/local/lib/python3.10/dist-packages (from langgraph-sdk) (3.10.12)\n",
            "Requirement already satisfied: anyio in /usr/local/lib/python3.10/dist-packages (from httpx>=0.25.2->langgraph-sdk) (3.7.1)\n",
            "Requirement already satisfied: certifi in /usr/local/lib/python3.10/dist-packages (from httpx>=0.25.2->langgraph-sdk) (2024.12.14)\n",
            "Requirement already satisfied: httpcore==1.* in /usr/local/lib/python3.10/dist-packages (from httpx>=0.25.2->langgraph-sdk) (1.0.7)\n",
            "Requirement already satisfied: idna in /usr/local/lib/python3.10/dist-packages (from httpx>=0.25.2->langgraph-sdk) (3.10)\n",
            "Requirement already satisfied: h11<0.15,>=0.13 in /usr/local/lib/python3.10/dist-packages (from httpcore==1.*->httpx>=0.25.2->langgraph-sdk) (0.14.0)\n",
            "Requirement already satisfied: sniffio>=1.1 in /usr/local/lib/python3.10/dist-packages (from anyio->httpx>=0.25.2->langgraph-sdk) (1.3.1)\n",
            "Requirement already satisfied: exceptiongroup in /usr/local/lib/python3.10/dist-packages (from anyio->httpx>=0.25.2->langgraph-sdk) (1.2.2)\n"
          ]
        }
      ]
    },
    {
      "cell_type": "code",
      "source": [
        "assistants"
      ],
      "metadata": {
        "colab": {
          "base_uri": "https://localhost:8080/"
        },
        "id": "vGcN4lzhRVga",
        "outputId": "7933c4d3-2228-4620-c642-d6ae5bb4a094"
      },
      "execution_count": null,
      "outputs": [
        {
          "output_type": "execute_result",
          "data": {
            "text/plain": [
              "[{'assistant_id': '6f6fce9a-b777-529d-9699-dd340ddec86c',\n",
              "  'graph_id': 'dynamic_breakpoints',\n",
              "  'created_at': '2025-01-07T07:27:15.645637+00:00',\n",
              "  'updated_at': '2025-01-07T07:27:15.645637+00:00',\n",
              "  'config': {},\n",
              "  'metadata': {'created_by': 'system'},\n",
              "  'version': 1,\n",
              "  'name': 'dynamic_breakpoints'},\n",
              " {'assistant_id': 'fe096781-5601-53d2-b2f6-0d3403f7e9ca',\n",
              "  'graph_id': 'agent',\n",
              "  'created_at': '2024-12-02T09:25:45.833162+00:00',\n",
              "  'updated_at': '2024-12-02T09:25:45.833162+00:00',\n",
              "  'config': {},\n",
              "  'metadata': {'created_by': 'system'},\n",
              "  'version': 1,\n",
              "  'name': 'agent'}]"
            ]
          },
          "metadata": {},
          "execution_count": 16
        }
      ]
    },
    {
      "cell_type": "code",
      "source": [
        "thread = await client.threads.create()\n",
        "input_message = HumanMessage(content=\"Multiply 2 and 3\")\n",
        "async for event in client.runs.stream(thread[\"thread_id\"],\n",
        "                                      assistant_id=\"agent\",\n",
        "                                      input={\"messages\": [input_message]},\n",
        "                                      stream_mode=\"values\"):\n",
        "    print(event)"
      ],
      "metadata": {
        "colab": {
          "base_uri": "https://localhost:8080/"
        },
        "id": "nntaWEEURhNe",
        "outputId": "2290c5b2-8bda-4f1b-bb74-0e1b37f3b23c"
      },
      "execution_count": null,
      "outputs": [
        {
          "output_type": "stream",
          "name": "stdout",
          "text": [
            "StreamPart(event='metadata', data={'run_id': '1efcdb27-f596-679b-a1a0-79f4c4cd8f0a', 'attempt': 1})\n",
            "StreamPart(event='values', data={'messages': [{'content': 'Multiply 2 and 3', 'additional_kwargs': {'example': False, 'additional_kwargs': {}, 'response_metadata': {}}, 'response_metadata': {}, 'type': 'human', 'name': None, 'id': '6135e07c-58df-4a92-b52d-98459e5251b5', 'example': False}]})\n",
            "StreamPart(event='values', data={'messages': [{'content': 'Multiply 2 and 3', 'additional_kwargs': {'example': False, 'additional_kwargs': {}, 'response_metadata': {}}, 'response_metadata': {}, 'type': 'human', 'name': None, 'id': '6135e07c-58df-4a92-b52d-98459e5251b5', 'example': False}, {'content': '', 'additional_kwargs': {'function_call': {'name': 'multiply', 'arguments': '{\"a\": 2.0, \"b\": 3.0}'}}, 'response_metadata': {'prompt_feedback': {'block_reason': 0, 'safety_ratings': []}, 'finish_reason': 'STOP', 'safety_ratings': []}, 'type': 'ai', 'name': None, 'id': 'run-feb5f6f7-8fb2-43c7-b53f-9654ec5472d3-0', 'example': False, 'tool_calls': [{'name': 'multiply', 'args': {'a': 2.0, 'b': 3.0}, 'id': '223b6648-30b6-458e-9af3-32d218fb7dce', 'type': 'tool_call'}], 'invalid_tool_calls': [], 'usage_metadata': {'input_tokens': 168, 'output_tokens': 3, 'total_tokens': 171, 'input_token_details': {'cache_read': 0}}}]})\n",
            "StreamPart(event='values', data={'messages': [{'content': 'Multiply 2 and 3', 'additional_kwargs': {'example': False, 'additional_kwargs': {}, 'response_metadata': {}}, 'response_metadata': {}, 'type': 'human', 'name': None, 'id': '6135e07c-58df-4a92-b52d-98459e5251b5', 'example': False}, {'content': '', 'additional_kwargs': {'function_call': {'name': 'multiply', 'arguments': '{\"a\": 2.0, \"b\": 3.0}'}}, 'response_metadata': {'prompt_feedback': {'block_reason': 0, 'safety_ratings': []}, 'finish_reason': 'STOP', 'safety_ratings': []}, 'type': 'ai', 'name': None, 'id': 'run-feb5f6f7-8fb2-43c7-b53f-9654ec5472d3-0', 'example': False, 'tool_calls': [{'name': 'multiply', 'args': {'a': 2.0, 'b': 3.0}, 'id': '223b6648-30b6-458e-9af3-32d218fb7dce', 'type': 'tool_call'}], 'invalid_tool_calls': [], 'usage_metadata': {'input_tokens': 168, 'output_tokens': 3, 'total_tokens': 171, 'input_token_details': {'cache_read': 0}}}, {'content': '6', 'additional_kwargs': {}, 'response_metadata': {}, 'type': 'tool', 'name': 'multiply', 'id': '997d54c6-4f7a-4d0d-99ea-19a0c41df9be', 'tool_call_id': '223b6648-30b6-458e-9af3-32d218fb7dce', 'artifact': None, 'status': 'success'}]})\n",
            "StreamPart(event='values', data={'messages': [{'content': 'Multiply 2 and 3', 'additional_kwargs': {'example': False, 'additional_kwargs': {}, 'response_metadata': {}}, 'response_metadata': {}, 'type': 'human', 'name': None, 'id': '6135e07c-58df-4a92-b52d-98459e5251b5', 'example': False}, {'content': '', 'additional_kwargs': {'function_call': {'name': 'multiply', 'arguments': '{\"a\": 2.0, \"b\": 3.0}'}}, 'response_metadata': {'prompt_feedback': {'block_reason': 0, 'safety_ratings': []}, 'finish_reason': 'STOP', 'safety_ratings': []}, 'type': 'ai', 'name': None, 'id': 'run-feb5f6f7-8fb2-43c7-b53f-9654ec5472d3-0', 'example': False, 'tool_calls': [{'name': 'multiply', 'args': {'a': 2.0, 'b': 3.0}, 'id': '223b6648-30b6-458e-9af3-32d218fb7dce', 'type': 'tool_call'}], 'invalid_tool_calls': [], 'usage_metadata': {'input_tokens': 168, 'output_tokens': 3, 'total_tokens': 171, 'input_token_details': {'cache_read': 0}}}, {'content': '6', 'additional_kwargs': {}, 'response_metadata': {}, 'type': 'tool', 'name': 'multiply', 'id': '997d54c6-4f7a-4d0d-99ea-19a0c41df9be', 'tool_call_id': '223b6648-30b6-458e-9af3-32d218fb7dce', 'artifact': None, 'status': 'success'}, {'content': 'The result is 6.', 'additional_kwargs': {}, 'response_metadata': {'prompt_feedback': {'block_reason': 0, 'safety_ratings': []}, 'finish_reason': 'STOP', 'safety_ratings': []}, 'type': 'ai', 'name': None, 'id': 'run-73c676f2-94d8-4dba-8077-9d29df4055e7-0', 'example': False, 'tool_calls': [], 'invalid_tool_calls': [], 'usage_metadata': {'input_tokens': 201, 'output_tokens': 6, 'total_tokens': 207, 'input_token_details': {'cache_read': 0}}}]})\n"
          ]
        }
      ]
    },
    {
      "cell_type": "code",
      "source": [
        "from langchain_core.messages import convert_to_messages\n",
        "thread = await client.threads.create()\n",
        "input_message = HumanMessage(content=\"Multiply 2 and 3\")\n",
        "async for event in client.runs.stream(thread[\"thread_id\"], assistant_id=\"agent\", input={\"messages\": [input_message]}, stream_mode=\"values\"):\n",
        "    messages = event.data.get('messages',None)\n",
        "    if messages:\n",
        "        print(convert_to_messages(messages)[-1])\n",
        "    print('='*25)"
      ],
      "metadata": {
        "colab": {
          "base_uri": "https://localhost:8080/"
        },
        "id": "uoEerdH6SUsY",
        "outputId": "3d95e244-c25a-4ceb-ccec-d880b18ace99"
      },
      "execution_count": null,
      "outputs": [
        {
          "output_type": "stream",
          "name": "stdout",
          "text": [
            "=========================\n",
            "content='Multiply 2 and 3' additional_kwargs={'additional_kwargs': {'example': False, 'additional_kwargs': {}, 'response_metadata': {}}, 'response_metadata': {}, 'example': False} response_metadata={} id='2599173f-1b35-47c8-94e8-6e09a9622d93'\n",
            "=========================\n",
            "content='' additional_kwargs={'additional_kwargs': {'function_call': {'name': 'multiply', 'arguments': '{\"a\": 2.0, \"b\": 3.0}'}}, 'response_metadata': {'prompt_feedback': {'block_reason': 0, 'safety_ratings': []}, 'finish_reason': 'STOP', 'safety_ratings': []}, 'example': False, 'invalid_tool_calls': [], 'usage_metadata': {'input_tokens': 168, 'output_tokens': 3, 'total_tokens': 171, 'input_token_details': {'cache_read': 0}}} response_metadata={} id='run-9a9a6ae9-fd8b-4b3e-9b6b-2e6594421de9-0' tool_calls=[{'name': 'multiply', 'args': {'a': 2.0, 'b': 3.0}, 'id': 'd90cd9bd-9969-4a34-a06e-27933d709e02', 'type': 'tool_call'}]\n",
            "=========================\n",
            "content='6' name='multiply' id='664c530b-2765-4985-9569-c59a93ac217b' tool_call_id='d90cd9bd-9969-4a34-a06e-27933d709e02'\n",
            "=========================\n",
            "content='The result is 6.' additional_kwargs={'additional_kwargs': {}, 'response_metadata': {'prompt_feedback': {'block_reason': 0, 'safety_ratings': []}, 'finish_reason': 'STOP', 'safety_ratings': []}, 'example': False, 'invalid_tool_calls': [], 'usage_metadata': {'input_tokens': 201, 'output_tokens': 7, 'total_tokens': 208, 'input_token_details': {'cache_read': 0}}} response_metadata={} id='run-43c8a599-cf8d-4fb0-aa87-000a374cba2d-0'\n",
            "=========================\n"
          ]
        }
      ]
    },
    {
      "cell_type": "markdown",
      "source": [
        "# Another Example Of LangChain Studio API"
      ],
      "metadata": {
        "id": "G16JztGEzUEU"
      }
    },
    {
      "cell_type": "code",
      "source": [
        "!pip install langgraph-sdk\n",
        "from langgraph_sdk import get_client\n",
        "\n",
        "url = \"https://ac80-103-151-43-15.ngrok-free.app\"\n",
        "client = get_client(url=url)"
      ],
      "metadata": {
        "id": "4QiYFbfQTXuK",
        "colab": {
          "base_uri": "https://localhost:8080/"
        },
        "outputId": "a16b8c3c-a85e-4fe8-b5e8-5f30b58dca0a"
      },
      "execution_count": null,
      "outputs": [
        {
          "output_type": "stream",
          "name": "stdout",
          "text": [
            "Requirement already satisfied: langgraph-sdk in /usr/local/lib/python3.10/dist-packages (0.1.48)\n",
            "Requirement already satisfied: httpx>=0.25.2 in /usr/local/lib/python3.10/dist-packages (from langgraph-sdk) (0.28.1)\n",
            "Requirement already satisfied: orjson>=3.10.1 in /usr/local/lib/python3.10/dist-packages (from langgraph-sdk) (3.10.12)\n",
            "Requirement already satisfied: anyio in /usr/local/lib/python3.10/dist-packages (from httpx>=0.25.2->langgraph-sdk) (3.7.1)\n",
            "Requirement already satisfied: certifi in /usr/local/lib/python3.10/dist-packages (from httpx>=0.25.2->langgraph-sdk) (2024.12.14)\n",
            "Requirement already satisfied: httpcore==1.* in /usr/local/lib/python3.10/dist-packages (from httpx>=0.25.2->langgraph-sdk) (1.0.7)\n",
            "Requirement already satisfied: idna in /usr/local/lib/python3.10/dist-packages (from httpx>=0.25.2->langgraph-sdk) (3.10)\n",
            "Requirement already satisfied: h11<0.15,>=0.13 in /usr/local/lib/python3.10/dist-packages (from httpcore==1.*->httpx>=0.25.2->langgraph-sdk) (0.14.0)\n",
            "Requirement already satisfied: sniffio>=1.1 in /usr/local/lib/python3.10/dist-packages (from anyio->httpx>=0.25.2->langgraph-sdk) (1.3.1)\n",
            "Requirement already satisfied: exceptiongroup in /usr/local/lib/python3.10/dist-packages (from anyio->httpx>=0.25.2->langgraph-sdk) (1.2.2)\n"
          ]
        }
      ]
    },
    {
      "cell_type": "code",
      "source": [
        "assistants = await client.assistants.search()"
      ],
      "metadata": {
        "id": "68V0ewy51qnF"
      },
      "execution_count": null,
      "outputs": []
    },
    {
      "cell_type": "code",
      "source": [
        "assistants"
      ],
      "metadata": {
        "colab": {
          "base_uri": "https://localhost:8080/"
        },
        "id": "9C3ZI2Aw1xTA",
        "outputId": "6ec7bfab-819d-44ef-cab7-1b87c6750511"
      },
      "execution_count": null,
      "outputs": [
        {
          "output_type": "execute_result",
          "data": {
            "text/plain": [
              "[{'assistant_id': '6f6fce9a-b777-529d-9699-dd340ddec86c',\n",
              "  'graph_id': 'dynamic_breakpoints',\n",
              "  'created_at': '2025-01-07T07:27:15.645637+00:00',\n",
              "  'updated_at': '2025-01-07T07:27:15.645637+00:00',\n",
              "  'config': {},\n",
              "  'metadata': {'created_by': 'system'},\n",
              "  'version': 1,\n",
              "  'name': 'dynamic_breakpoints'},\n",
              " {'assistant_id': 'fe096781-5601-53d2-b2f6-0d3403f7e9ca',\n",
              "  'graph_id': 'agent',\n",
              "  'created_at': '2024-12-02T09:25:45.833162+00:00',\n",
              "  'updated_at': '2024-12-02T09:25:45.833162+00:00',\n",
              "  'config': {},\n",
              "  'metadata': {'created_by': 'system'},\n",
              "  'version': 1,\n",
              "  'name': 'agent'}]"
            ]
          },
          "metadata": {},
          "execution_count": 21
        }
      ]
    },
    {
      "cell_type": "code",
      "source": [
        "thread = await client.threads.create()\n",
        "input_message = HumanMessage(content=\"Multiply 5 and 5\")\n",
        "\n",
        "async for event in client.runs.stream(\n",
        "    thread[\"thread_id\"],\n",
        "    assistant_id = \"agent\",\n",
        "    input = {\"messages\":[input_message]},\n",
        "    stream_mode = \"values\"\n",
        "\n",
        "):\n",
        "   print(event)"
      ],
      "metadata": {
        "colab": {
          "base_uri": "https://localhost:8080/"
        },
        "id": "E_csKCQt225t",
        "outputId": "9234ef10-c66e-4169-fce8-c33d9d4dc851"
      },
      "execution_count": null,
      "outputs": [
        {
          "output_type": "stream",
          "name": "stdout",
          "text": [
            "StreamPart(event='metadata', data={'run_id': '1efcdb29-db71-6764-9e0f-2b340b7991cb', 'attempt': 1})\n",
            "StreamPart(event='values', data={'messages': [{'content': 'Multiply 5 and 5', 'additional_kwargs': {'example': False, 'additional_kwargs': {}, 'response_metadata': {}}, 'response_metadata': {}, 'type': 'human', 'name': None, 'id': '3f781ee7-5050-458c-b268-be15dba76e8b', 'example': False}]})\n",
            "StreamPart(event='values', data={'messages': [{'content': 'Multiply 5 and 5', 'additional_kwargs': {'example': False, 'additional_kwargs': {}, 'response_metadata': {}}, 'response_metadata': {}, 'type': 'human', 'name': None, 'id': '3f781ee7-5050-458c-b268-be15dba76e8b', 'example': False}, {'content': '', 'additional_kwargs': {'function_call': {'name': 'multiply', 'arguments': '{\"a\": 5.0, \"b\": 5.0}'}}, 'response_metadata': {'prompt_feedback': {'block_reason': 0, 'safety_ratings': []}, 'finish_reason': 'STOP', 'safety_ratings': []}, 'type': 'ai', 'name': None, 'id': 'run-6f60ddc5-d1fc-4a5c-878c-5f8002b88004-0', 'example': False, 'tool_calls': [{'name': 'multiply', 'args': {'a': 5.0, 'b': 5.0}, 'id': 'c59650f7-3dff-467e-ad5e-9dc159acc7cc', 'type': 'tool_call'}], 'invalid_tool_calls': [], 'usage_metadata': {'input_tokens': 168, 'output_tokens': 3, 'total_tokens': 171, 'input_token_details': {'cache_read': 0}}}]})\n",
            "StreamPart(event='values', data={'messages': [{'content': 'Multiply 5 and 5', 'additional_kwargs': {'example': False, 'additional_kwargs': {}, 'response_metadata': {}}, 'response_metadata': {}, 'type': 'human', 'name': None, 'id': '3f781ee7-5050-458c-b268-be15dba76e8b', 'example': False}, {'content': '', 'additional_kwargs': {'function_call': {'name': 'multiply', 'arguments': '{\"a\": 5.0, \"b\": 5.0}'}}, 'response_metadata': {'prompt_feedback': {'block_reason': 0, 'safety_ratings': []}, 'finish_reason': 'STOP', 'safety_ratings': []}, 'type': 'ai', 'name': None, 'id': 'run-6f60ddc5-d1fc-4a5c-878c-5f8002b88004-0', 'example': False, 'tool_calls': [{'name': 'multiply', 'args': {'a': 5.0, 'b': 5.0}, 'id': 'c59650f7-3dff-467e-ad5e-9dc159acc7cc', 'type': 'tool_call'}], 'invalid_tool_calls': [], 'usage_metadata': {'input_tokens': 168, 'output_tokens': 3, 'total_tokens': 171, 'input_token_details': {'cache_read': 0}}}, {'content': '25', 'additional_kwargs': {}, 'response_metadata': {}, 'type': 'tool', 'name': 'multiply', 'id': 'bf97b9a5-aaa8-490c-b300-857152d5a16a', 'tool_call_id': 'c59650f7-3dff-467e-ad5e-9dc159acc7cc', 'artifact': None, 'status': 'success'}]})\n",
            "StreamPart(event='values', data={'messages': [{'content': 'Multiply 5 and 5', 'additional_kwargs': {'example': False, 'additional_kwargs': {}, 'response_metadata': {}}, 'response_metadata': {}, 'type': 'human', 'name': None, 'id': '3f781ee7-5050-458c-b268-be15dba76e8b', 'example': False}, {'content': '', 'additional_kwargs': {'function_call': {'name': 'multiply', 'arguments': '{\"a\": 5.0, \"b\": 5.0}'}}, 'response_metadata': {'prompt_feedback': {'block_reason': 0, 'safety_ratings': []}, 'finish_reason': 'STOP', 'safety_ratings': []}, 'type': 'ai', 'name': None, 'id': 'run-6f60ddc5-d1fc-4a5c-878c-5f8002b88004-0', 'example': False, 'tool_calls': [{'name': 'multiply', 'args': {'a': 5.0, 'b': 5.0}, 'id': 'c59650f7-3dff-467e-ad5e-9dc159acc7cc', 'type': 'tool_call'}], 'invalid_tool_calls': [], 'usage_metadata': {'input_tokens': 168, 'output_tokens': 3, 'total_tokens': 171, 'input_token_details': {'cache_read': 0}}}, {'content': '25', 'additional_kwargs': {}, 'response_metadata': {}, 'type': 'tool', 'name': 'multiply', 'id': 'bf97b9a5-aaa8-490c-b300-857152d5a16a', 'tool_call_id': 'c59650f7-3dff-467e-ad5e-9dc159acc7cc', 'artifact': None, 'status': 'success'}, {'content': 'The result is 25.', 'additional_kwargs': {}, 'response_metadata': {'prompt_feedback': {'block_reason': 0, 'safety_ratings': []}, 'finish_reason': 'STOP', 'safety_ratings': []}, 'type': 'ai', 'name': None, 'id': 'run-728574a1-673a-49ac-90d5-556f9665ce06-0', 'example': False, 'tool_calls': [], 'invalid_tool_calls': [], 'usage_metadata': {'input_tokens': 202, 'output_tokens': 8, 'total_tokens': 210, 'input_token_details': {'cache_read': 0}}}]})\n"
          ]
        }
      ]
    },
    {
      "cell_type": "markdown",
      "source": [
        "# Just a Format To View Data More Clearly"
      ],
      "metadata": {
        "id": "O1C03iThBsLh"
      }
    },
    {
      "cell_type": "code",
      "source": [
        "thread = await client.threads.create()\n",
        "input_message = HumanMessage(content=\"Multiply 2 and 3\")\n",
        "\n",
        "def format_tool_calls(tool_calls):\n",
        "    \"\"\"\n",
        "    Format a list of tool calls into a readable string.\n",
        "\n",
        "    Args:\n",
        "        tool_calls (list): A list of dictionaries, each representing a tool call.\n",
        "            Each dictionary should have 'id', 'name', and 'args' keys.\n",
        "\n",
        "    Returns:\n",
        "        str: A formatted string of tool calls, or \"No tool calls\" if the list is empty.\n",
        "\n",
        "    \"\"\"\n",
        "\n",
        "    if tool_calls:\n",
        "        formatted_calls = []\n",
        "        for call in tool_calls:\n",
        "            formatted_calls.append(\n",
        "                f\"Tool Call ID: {call['id']}, Function: {call['name']}, Arguments: {call['args']}\"\n",
        "            )\n",
        "        return \"\\n\".join(formatted_calls)\n",
        "    return \"No tool calls\"\n",
        "\n",
        "async for event in client.runs.stream(\n",
        "    thread[\"thread_id\"],\n",
        "    assistant_id=\"agent\",\n",
        "    input={\"messages\": [input_message]},\n",
        "    stream_mode=\"messages\",):\n",
        "\n",
        "    # Handle metadata events\n",
        "    if event.event == \"metadata\":\n",
        "        print(f\"Metadata: Run ID - {event.data['run_id']}\")\n",
        "        print(\"-\" * 50)\n",
        "\n",
        "    # Handle partial message events\n",
        "    elif event.event == \"messages/partial\":\n",
        "        for data_item in event.data:\n",
        "            # Process user messages\n",
        "            if \"role\" in data_item and data_item[\"role\"] == \"user\":\n",
        "                print(f\"Human: {data_item['content']}\")\n",
        "            else:\n",
        "                # Extract relevant data from the event\n",
        "                tool_calls = data_item.get(\"tool_calls\", [])\n",
        "                invalid_tool_calls = data_item.get(\"invalid_tool_calls\", [])\n",
        "                content = data_item.get(\"content\", \"\")\n",
        "                response_metadata = data_item.get(\"response_metadata\", {})\n",
        "\n",
        "                if content:\n",
        "                    print(f\"AI: {content}\")\n",
        "\n",
        "                if tool_calls:\n",
        "                    print(\"Tool Calls:\")\n",
        "                    print(format_tool_calls(tool_calls))\n",
        "\n",
        "                if invalid_tool_calls:\n",
        "                    print(\"Invalid Tool Calls:\")\n",
        "                    print(format_tool_calls(invalid_tool_calls))\n",
        "\n",
        "                if response_metadata:\n",
        "                    finish_reason = response_metadata.get(\"finish_reason\", \"N/A\")\n",
        "                    print(f\"Response Metadata: Finish Reason - {finish_reason}\")\n",
        "\n",
        "        print(\"-\" * 50)"
      ],
      "metadata": {
        "colab": {
          "base_uri": "https://localhost:8080/"
        },
        "id": "CWTFdKUkAngA",
        "outputId": "11bb0629-a38d-4d33-95ad-3b10882b7a40"
      },
      "execution_count": null,
      "outputs": [
        {
          "output_type": "stream",
          "name": "stdout",
          "text": [
            "Metadata: Run ID - 1efcdac0-d0b2-6274-af75-f7844ea29e70\n",
            "--------------------------------------------------\n",
            "Tool Calls:\n",
            "Tool Call ID: 20fcfc92-b933-4dc0-987a-50eb10c0f7bb, Function: multiply, Arguments: {'a': 2.0, 'b': 3.0}\n",
            "Response Metadata: Finish Reason - N/A\n",
            "--------------------------------------------------\n",
            "Tool Calls:\n",
            "Tool Call ID: 20fcfc92-b933-4dc0-987a-50eb10c0f7bb, Function: multiply, Arguments: {'a': 2.0, 'b': 3.0}\n",
            "Response Metadata: Finish Reason - STOP\n",
            "--------------------------------------------------\n",
            "AI: The\n",
            "Response Metadata: Finish Reason - N/A\n",
            "--------------------------------------------------\n",
            "AI: The result is 6.\n",
            "Response Metadata: Finish Reason - STOP\n",
            "--------------------------------------------------\n"
          ]
        }
      ]
    },
    {
      "cell_type": "markdown",
      "source": [
        "# Next Topic BreakPoints (Human In The Loop)"
      ],
      "metadata": {
        "id": "qGQ0OKvab9BW"
      }
    },
    {
      "cell_type": "code",
      "source": [
        "def multiply(a:int,b:int)->int:\n",
        "  \"\"\"\n",
        "  Multiply a and b\n",
        "  Args:\n",
        "    a: int\n",
        "    b: int\n",
        "  Returns:\n",
        "    a * b\n",
        "  \"\"\"\n",
        "  return a*b\n",
        "\n",
        "def add(a:int,b:int)->int:\n",
        "  \"\"\"\n",
        "  Add a and b\n",
        "  Args:\n",
        "    a: int\n",
        "    b: int\n",
        "  Returns:\n",
        "    a + b\n",
        "  \"\"\"\n",
        "  return a+b\n",
        "\n",
        "def divide(a:int,b:int)->int:\n",
        "  \"\"\"\n",
        "  Divide a and b\n",
        "  Args:\n",
        "    a: int\n",
        "    b: int\n",
        "  Returns:\n",
        "    a / b\n",
        "  \"\"\"\n",
        "  return a/b\n",
        "\n",
        "tools : list[tool] = [add,multiply,divide]\n",
        "llm_with_tools = llm.bind_tools(tools)"
      ],
      "metadata": {
        "id": "bNEoVL0uB0AW"
      },
      "execution_count": null,
      "outputs": []
    },
    {
      "cell_type": "code",
      "source": [
        "sys_msg = SystemMessage(content=\"You are a helpful assistant tasked with performing arithmetic on a set of inputs\")\n",
        "\n",
        "def assistant(state:MessagesState):\n",
        "  return {\"messages\":[llm_with_tools.invoke([sys_msg]+state[\"messages\"])]}\n",
        "\n",
        "builder_1 :StateGraph = StateGraph(state_schema=MessagesState)\n",
        "\n",
        "builder_1.add_node(\"assistant\",assistant)\n",
        "builder_1.add_node(\"tools\",ToolNode(tools))\n",
        "\n",
        "builder_1.add_edge(START,\"assistant\")\n",
        "builder_1.add_conditional_edges(\"assistant\",tools_condition)\n",
        "builder_1.add_edge(\"tools\",\"assistant\")\n",
        "\n",
        "memory : MemorySaver = MemorySaver()\n",
        "graph_111 : CompiledStateGraph = builder_1.compile(interrupt_before=[\"tools\"],checkpointer=memory)"
      ],
      "metadata": {
        "id": "Mauf_vO4x3xG"
      },
      "execution_count": null,
      "outputs": []
    },
    {
      "cell_type": "code",
      "source": [
        "display(Image(graph_111.get_graph(xray=True).draw_mermaid_png()))"
      ],
      "metadata": {
        "colab": {
          "base_uri": "https://localhost:8080/",
          "height": 308
        },
        "id": "BdT6W_qd01ge",
        "outputId": "1a7d80c2-0f61-4a92-8699-a6e965241126"
      },
      "execution_count": null,
      "outputs": [
        {
          "output_type": "display_data",
          "data": {
            "image/png": "[encoded data removed]",
            "text/plain": [
              "<IPython.core.display.Image object>"
            ]
          },
          "metadata": {}
        }
      ]
    },
    {
      "cell_type": "code",
      "source": [
        "input_message = [HumanMessage(content=\"Multiply 2 and 3\")]\n",
        "config_1 = {\"configurable\":{\"thread_id\":\"1\"}}\n",
        "for event in graph_111.stream({\"messages\":input_message},config_1,stream_mode=\"values\"):\n",
        "  event[\"messages\"][-1].pretty_print()"
      ],
      "metadata": {
        "colab": {
          "base_uri": "https://localhost:8080/"
        },
        "id": "IzQShXAh10Jh",
        "outputId": "251e3720-b09b-4303-a693-3e325126cff2"
      },
      "execution_count": null,
      "outputs": [
        {
          "output_type": "stream",
          "name": "stdout",
          "text": [
            "================================\u001b[1m Human Message \u001b[0m=================================\n",
            "\n",
            "Multiply 2 and 3\n",
            "==================================\u001b[1m Ai Message \u001b[0m==================================\n",
            "Tool Calls:\n",
            "  multiply (b6f7ffe9-13eb-4a73-aba2-81a4c69bfb26)\n",
            " Call ID: b6f7ffe9-13eb-4a73-aba2-81a4c69bfb26\n",
            "  Args:\n",
            "    a: 2.0\n",
            "    b: 3.0\n"
          ]
        }
      ]
    },
    {
      "cell_type": "markdown",
      "source": [
        "# To Check The Upcoming State To Execute"
      ],
      "metadata": {
        "id": "L62VBjyI7TxY"
      }
    },
    {
      "cell_type": "code",
      "source": [
        "state = graph_111.get_state(config_1)\n",
        "state.next"
      ],
      "metadata": {
        "colab": {
          "base_uri": "https://localhost:8080/"
        },
        "id": "I1TMAvA15Ogv",
        "outputId": "ca7af4f2-e2a6-4dd5-eaf9-dea8d2b4994a"
      },
      "execution_count": null,
      "outputs": [
        {
          "output_type": "execute_result",
          "data": {
            "text/plain": [
              "('tools',)"
            ]
          },
          "metadata": {},
          "execution_count": 33
        }
      ]
    },
    {
      "cell_type": "markdown",
      "source": [
        "# To Check The History Of All The States SnapShot"
      ],
      "metadata": {
        "id": "aW0QKSmE7f8W"
      }
    },
    {
      "cell_type": "code",
      "source": [
        "state_1= graph_111.get_state_history(config_1)\n",
        "state_1"
      ],
      "metadata": {
        "colab": {
          "base_uri": "https://localhost:8080/"
        },
        "id": "SG75xcMZ6tYh",
        "outputId": "dc7eb290-adec-44f8-c944-b8650900b2eb"
      },
      "execution_count": null,
      "outputs": [
        {
          "output_type": "execute_result",
          "data": {
            "text/plain": [
              "<generator object Pregel.get_state_history at 0x7a973997f290>"
            ]
          },
          "metadata": {},
          "execution_count": 41
        }
      ]
    },
    {
      "cell_type": "markdown",
      "source": [
        "# To Resume the Paused Graph Again"
      ],
      "metadata": {
        "id": "acdZZKUH8tXJ"
      }
    },
    {
      "cell_type": "code",
      "source": [
        "for event in graph_111.stream(None,config_1,stream_mode=\"values\"):\n",
        "  event[\"messages\"][-1].pretty_print()"
      ],
      "metadata": {
        "colab": {
          "base_uri": "https://localhost:8080/"
        },
        "id": "M3dTKopI7tAq",
        "outputId": "9ea21830-7401-4e19-8546-6a8102717cd8"
      },
      "execution_count": null,
      "outputs": [
        {
          "output_type": "stream",
          "name": "stdout",
          "text": [
            "==================================\u001b[1m Ai Message \u001b[0m==================================\n",
            "Tool Calls:\n",
            "  multiply (b6f7ffe9-13eb-4a73-aba2-81a4c69bfb26)\n",
            " Call ID: b6f7ffe9-13eb-4a73-aba2-81a4c69bfb26\n",
            "  Args:\n",
            "    a: 2.0\n",
            "    b: 3.0\n",
            "=================================\u001b[1m Tool Message \u001b[0m=================================\n",
            "Name: multiply\n",
            "\n",
            "6\n",
            "==================================\u001b[1m Ai Message \u001b[0m==================================\n",
            "\n",
            "2 * 3 = 6\n"
          ]
        }
      ]
    },
    {
      "cell_type": "markdown",
      "source": [
        "# Example With User Approval"
      ],
      "metadata": {
        "id": "pwzjBr-l9-1U"
      }
    },
    {
      "cell_type": "code",
      "source": [
        "input_message_1 = [HumanMessage(content=\"Multily 5 by 5\")]\n",
        "config_2 = {\"configurable\":{\"thread_id\":\"2\"}}\n",
        "for event in graph_111.stream({\"messages\":input_message_1},config_2,stream_mode=\"values\"):\n",
        "  event[\"messages\"][-1].pretty_print()\n",
        "\n",
        "user_approval = input(\"Do you want to proceed with this Operation  yes/no\")\n",
        "\n",
        "if user_approval.lower() == \"yes\":\n",
        "  for event in graph_111.stream(None,config_2,stream_mode=\"values\"):\n",
        "    event[\"messages\"][-1].pretty_print()\n",
        "\n",
        "else :\n",
        "  print(\"Operation Cancelled By User\")"
      ],
      "metadata": {
        "colab": {
          "base_uri": "https://localhost:8080/"
        },
        "id": "AsfC9_1o9EhB",
        "outputId": "00874fd6-f254-426d-aa17-449d4f6a803a"
      },
      "execution_count": null,
      "outputs": [
        {
          "output_type": "stream",
          "name": "stdout",
          "text": [
            "================================\u001b[1m Human Message \u001b[0m=================================\n",
            "\n",
            "Multily 5 by 5\n",
            "==================================\u001b[1m Ai Message \u001b[0m==================================\n",
            "Tool Calls:\n",
            "  multiply (a8e183cd-de93-49fe-abdf-dd957d0af6a5)\n",
            " Call ID: a8e183cd-de93-49fe-abdf-dd957d0af6a5\n",
            "  Args:\n",
            "    a: 5.0\n",
            "    b: 5.0\n",
            "Do you want to proceed with this Operation  yes/noyes\n",
            "==================================\u001b[1m Ai Message \u001b[0m==================================\n",
            "Tool Calls:\n",
            "  multiply (a8e183cd-de93-49fe-abdf-dd957d0af6a5)\n",
            " Call ID: a8e183cd-de93-49fe-abdf-dd957d0af6a5\n",
            "  Args:\n",
            "    a: 5.0\n",
            "    b: 5.0\n",
            "=================================\u001b[1m Tool Message \u001b[0m=================================\n",
            "Name: multiply\n",
            "\n",
            "25\n",
            "==================================\u001b[1m Ai Message \u001b[0m==================================\n",
            "\n",
            "25\n"
          ]
        }
      ]
    },
    {
      "cell_type": "code",
      "source": [
        "input_message_2 = [HumanMessage(content=\"Divide 50 by 5\")]\n",
        "config_3 = {\"configurable\":{\"thread_id\":\"3\"}}\n",
        "for event in graph_111.stream({\"messages\":input_message_2},config_3,stream_mode=\"values\"):\n",
        "  event[\"messages\"][-1].pretty_print()\n",
        "\n",
        "user_approval = input(\"Do you want to proceed with this Operation  yes/no \")\n",
        "\n",
        "if user_approval.lower() == \"yes\":\n",
        "  for event in graph_111.stream(None,config_3,stream_mode=\"values\"):\n",
        "    event[\"messages\"][-1].pretty_print()\n",
        "\n",
        "else :\n",
        "  print(\"Operation Cancelled By User\")"
      ],
      "metadata": {
        "colab": {
          "base_uri": "https://localhost:8080/"
        },
        "id": "oFv_4vac-yJJ",
        "outputId": "b3b1fbd0-c64a-4bc4-bbb8-99325adf8f4a"
      },
      "execution_count": null,
      "outputs": [
        {
          "output_type": "stream",
          "name": "stdout",
          "text": [
            "================================\u001b[1m Human Message \u001b[0m=================================\n",
            "\n",
            "Divide 50 by 5\n",
            "==================================\u001b[1m Ai Message \u001b[0m==================================\n",
            "Tool Calls:\n",
            "  divide (b634c729-ec53-4491-9781-941a21c70b58)\n",
            " Call ID: b634c729-ec53-4491-9781-941a21c70b58\n",
            "  Args:\n",
            "    a: 50.0\n",
            "    b: 5.0\n",
            "Do you want to proceed with this Operation  yes/noyes\n",
            "==================================\u001b[1m Ai Message \u001b[0m==================================\n",
            "Tool Calls:\n",
            "  divide (b634c729-ec53-4491-9781-941a21c70b58)\n",
            " Call ID: b634c729-ec53-4491-9781-941a21c70b58\n",
            "  Args:\n",
            "    a: 50.0\n",
            "    b: 5.0\n",
            "=================================\u001b[1m Tool Message \u001b[0m=================================\n",
            "Name: divide\n",
            "\n",
            "10.0\n",
            "==================================\u001b[1m Ai Message \u001b[0m==================================\n",
            "\n",
            "50 divided by 5 is 10.\n"
          ]
        }
      ]
    },
    {
      "cell_type": "code",
      "source": [
        "input_message_3 = [HumanMessage(content=\"Add 50 by 50\")]\n",
        "config_4 = {\"configurable\":{\"thread_id\":\"4\"}}\n",
        "for event in graph_111.stream({\"messages\":input_message_3},config_4,stream_mode=\"values\"):\n",
        "  event[\"messages\"][-1].pretty_print()\n",
        "\n",
        "user_approval = input(\"Do you want to proceed with this Operation  yes/no\")\n",
        "\n",
        "if user_approval.lower() == \"yes\":\n",
        "  for event in graph_111.stream(None,config_4stream_mode=\"values\"):\n",
        "    event[\"messages\"][-1].pretty_print()\n",
        "\n",
        "else :\n",
        "  print(\"Operation Cancelled By User\")"
      ],
      "metadata": {
        "colab": {
          "base_uri": "https://localhost:8080/"
        },
        "id": "MFGTGtp1_tEt",
        "outputId": "c2475084-8c5d-43ab-ce30-cdb251f3ed99"
      },
      "execution_count": null,
      "outputs": [
        {
          "output_type": "stream",
          "name": "stdout",
          "text": [
            "================================\u001b[1m Human Message \u001b[0m=================================\n",
            "\n",
            "Add 50 by 50\n",
            "==================================\u001b[1m Ai Message \u001b[0m==================================\n",
            "Tool Calls:\n",
            "  add (6a73f326-1abb-4984-9477-0db703dfa3eb)\n",
            " Call ID: 6a73f326-1abb-4984-9477-0db703dfa3eb\n",
            "  Args:\n",
            "    a: 50.0\n",
            "    b: 50.0\n",
            "Do you want to proceed with this Operation  yes/nono\n",
            "Operation Cancelled By User\n"
          ]
        }
      ]
    },
    {
      "cell_type": "markdown",
      "source": [
        "# Example of Interruption With Langgraph API"
      ],
      "metadata": {
        "id": "OLC_VDIlBrJK"
      }
    },
    {
      "cell_type": "code",
      "source": [
        "initial_input = {\"messages\": HumanMessage(content=\"Multiply 2 and 3\")}\n",
        "thread = await client.threads.create()\n",
        "async for chunk in client.runs.stream(\n",
        "    thread[\"thread_id\"],\n",
        "    assistant_id=\"agent\",\n",
        "    input=initial_input,\n",
        "    stream_mode=\"values\",\n",
        "    interrupt_before=[\"tools\"],\n",
        "):\n",
        "    print(f\"Receiving new event of type: {chunk.event}...\")\n",
        "    messages = chunk.data.get('messages', [])\n",
        "    if messages:\n",
        "        print(messages[-1])\n",
        "    print(\"-\" * 50)"
      ],
      "metadata": {
        "colab": {
          "base_uri": "https://localhost:8080/"
        },
        "id": "XJcRKWcd_6ZU",
        "outputId": "ec201e6c-720c-403e-cffc-613878d2ffd6"
      },
      "execution_count": null,
      "outputs": [
        {
          "output_type": "stream",
          "name": "stdout",
          "text": [
            "Receiving new event of type: metadata...\n",
            "--------------------------------------------------\n",
            "Receiving new event of type: values...\n",
            "{'content': 'Multiply 2 and 3', 'additional_kwargs': {'example': False, 'additional_kwargs': {}, 'response_metadata': {}}, 'response_metadata': {}, 'type': 'human', 'name': None, 'id': '4ebad228-7f2d-4e1a-be9a-58bce71a7c58', 'example': False}\n",
            "--------------------------------------------------\n",
            "Receiving new event of type: values...\n",
            "{'content': '', 'additional_kwargs': {'function_call': {'name': 'multiply', 'arguments': '{\"a\": 2.0, \"b\": 3.0}'}}, 'response_metadata': {'prompt_feedback': {'block_reason': 0, 'safety_ratings': []}, 'finish_reason': 'STOP', 'safety_ratings': []}, 'type': 'ai', 'name': None, 'id': 'run-d0add50c-e3a7-4f44-b679-0e341c4c5007-0', 'example': False, 'tool_calls': [{'name': 'multiply', 'args': {'a': 2.0, 'b': 3.0}, 'id': '2114b6e2-140b-41d6-a0c2-0af7acc6beb3', 'type': 'tool_call'}], 'invalid_tool_calls': [], 'usage_metadata': {'input_tokens': 168, 'output_tokens': 3, 'total_tokens': 171, 'input_token_details': {'cache_read': 0}}}\n",
            "--------------------------------------------------\n"
          ]
        }
      ]
    },
    {
      "cell_type": "markdown",
      "source": [
        "# To Resume"
      ],
      "metadata": {
        "id": "DhWicyf0B51P"
      }
    },
    {
      "cell_type": "code",
      "source": [
        "async for chunk in client.runs.stream(\n",
        "    thread[\"thread_id\"],\n",
        "    \"agent\",\n",
        "    input=None,\n",
        "    stream_mode=\"values\",\n",
        "    interrupt_before=[\"tools\"],\n",
        "):\n",
        "    print(f\"Receiving new event of type: {chunk.event}...\")\n",
        "    messages = chunk.data.get('messages', [])\n",
        "    if messages:\n",
        "        print(messages[-1])\n",
        "    print(\"-\" * 50)"
      ],
      "metadata": {
        "colab": {
          "base_uri": "https://localhost:8080/"
        },
        "id": "zed9zaE-B5RI",
        "outputId": "fa1e7543-a571-4869-fb27-4f43d25b8d61"
      },
      "execution_count": null,
      "outputs": [
        {
          "output_type": "stream",
          "name": "stdout",
          "text": [
            "Receiving new event of type: metadata...\n",
            "--------------------------------------------------\n",
            "Receiving new event of type: values...\n",
            "{'content': '', 'additional_kwargs': {'function_call': {'name': 'multiply', 'arguments': '{\"a\": 2.0, \"b\": 3.0}'}}, 'response_metadata': {'prompt_feedback': {'block_reason': 0, 'safety_ratings': []}, 'finish_reason': 'STOP', 'safety_ratings': []}, 'type': 'ai', 'name': None, 'id': 'run-d0add50c-e3a7-4f44-b679-0e341c4c5007-0', 'example': False, 'tool_calls': [{'name': 'multiply', 'args': {'a': 2.0, 'b': 3.0}, 'id': '2114b6e2-140b-41d6-a0c2-0af7acc6beb3', 'type': 'tool_call'}], 'invalid_tool_calls': [], 'usage_metadata': {'input_tokens': 168, 'output_tokens': 3, 'total_tokens': 171, 'input_token_details': {'cache_read': 0}}}\n",
            "--------------------------------------------------\n",
            "Receiving new event of type: values...\n",
            "{'content': '6', 'additional_kwargs': {}, 'response_metadata': {}, 'type': 'tool', 'name': 'multiply', 'id': '2041cb9a-66ec-4fa5-a6a6-9a86ca4bde94', 'tool_call_id': '2114b6e2-140b-41d6-a0c2-0af7acc6beb3', 'artifact': None, 'status': 'success'}\n",
            "--------------------------------------------------\n",
            "Receiving new event of type: values...\n",
            "{'content': 'The result is 6.', 'additional_kwargs': {}, 'response_metadata': {'prompt_feedback': {'block_reason': 0, 'safety_ratings': []}, 'finish_reason': 'STOP', 'safety_ratings': []}, 'type': 'ai', 'name': None, 'id': 'run-55029575-93c0-4ae9-afd3-98eb8a5adf9d-0', 'example': False, 'tool_calls': [], 'invalid_tool_calls': [], 'usage_metadata': {'input_tokens': 201, 'output_tokens': 7, 'total_tokens': 208, 'input_token_details': {'cache_read': 0}}}\n",
            "--------------------------------------------------\n"
          ]
        }
      ]
    },
    {
      "cell_type": "markdown",
      "source": [
        "# Edit the BreakPoints Or Interruptions"
      ],
      "metadata": {
        "id": "fThmkdo3DGny"
      }
    },
    {
      "cell_type": "code",
      "source": [
        "graph_222 = builder_1.compile(interrupt_before=[\"assistant\"],checkpointer=memory)\n",
        "display(Image(graph_222.get_graph(xray=True).draw_mermaid_png()))"
      ],
      "metadata": {
        "colab": {
          "base_uri": "https://localhost:8080/",
          "height": 308
        },
        "id": "0K3VqB3uCBw1",
        "outputId": "d3a808d5-992c-48ea-ee10-20f0420ecf79"
      },
      "execution_count": null,
      "outputs": [
        {
          "output_type": "display_data",
          "data": {
            "image/png": "[encoded data removed]",
            "text/plain": [
              "<IPython.core.display.Image object>"
            ]
          },
          "metadata": {}
        }
      ]
    },
    {
      "cell_type": "code",
      "source": [
        "initial_input_333 =  [HumanMessage(content=\"Multiply 2 and 3\")]\n",
        "thread = {\"configurable\":{\"thread_id\":\"5\"}}\n",
        "\n",
        "for event in graph_222.stream({\"messages\":initial_input_333},thread,stream_mode=\"values\"):\n",
        "  event[\"messages\"][-1].pretty_print()"
      ],
      "metadata": {
        "colab": {
          "base_uri": "https://localhost:8080/"
        },
        "id": "s70WJtc0DkJI",
        "outputId": "560218b2-e21b-4ddf-f963-b3143c6c1f62"
      },
      "execution_count": null,
      "outputs": [
        {
          "output_type": "stream",
          "name": "stdout",
          "text": [
            "================================\u001b[1m Human Message \u001b[0m=================================\n",
            "\n",
            "Multiply 2 and 3\n"
          ]
        }
      ]
    },
    {
      "cell_type": "code",
      "source": [
        "state = graph_222.get_state(thread)\n",
        "state.next"
      ],
      "metadata": {
        "colab": {
          "base_uri": "https://localhost:8080/"
        },
        "id": "FjBd78SmEWt_",
        "outputId": "d14a190a-05ad-4e75-e62a-170f7d515ac3"
      },
      "execution_count": null,
      "outputs": [
        {
          "output_type": "execute_result",
          "data": {
            "text/plain": [
              "('assistant',)"
            ]
          },
          "metadata": {},
          "execution_count": 56
        }
      ]
    },
    {
      "cell_type": "markdown",
      "source": [
        "# Now to Update Or Edit State"
      ],
      "metadata": {
        "id": "7Zw7TGFsE9yh"
      }
    },
    {
      "cell_type": "code",
      "source": [
        "graph_222.update_state(\n",
        "    thread,\n",
        "    {\"messages\":[HumanMessage(content=\"No,Multiply 10 by 10\")]}\n",
        ")"
      ],
      "metadata": {
        "colab": {
          "base_uri": "https://localhost:8080/"
        },
        "id": "OA1BmcUaEaiP",
        "outputId": "ba563729-020d-4281-a101-2100be12f994"
      },
      "execution_count": null,
      "outputs": [
        {
          "output_type": "execute_result",
          "data": {
            "text/plain": [
              "{'configurable': {'thread_id': '5',\n",
              "  'checkpoint_ns': '',\n",
              "  'checkpoint_id': '1efcdc3b-4597-6818-8001-9e5e262e8f00'}}"
            ]
          },
          "metadata": {},
          "execution_count": 57
        }
      ]
    },
    {
      "cell_type": "code",
      "source": [
        "new_state = graph_222.get_state(thread).values\n",
        "for m in new_state[\"messages\"]:\n",
        "  m.pretty_print()"
      ],
      "metadata": {
        "colab": {
          "base_uri": "https://localhost:8080/"
        },
        "id": "QjKvEr9QFVGX",
        "outputId": "2bc81d1d-95af-4f9d-dd94-dcff2d1b7cb9"
      },
      "execution_count": null,
      "outputs": [
        {
          "output_type": "stream",
          "name": "stdout",
          "text": [
            "================================\u001b[1m Human Message \u001b[0m=================================\n",
            "\n",
            "Multiply 2 and 3\n",
            "================================\u001b[1m Human Message \u001b[0m=================================\n",
            "\n",
            "No,Multiply 10 by 10\n"
          ]
        }
      ]
    },
    {
      "cell_type": "markdown",
      "source": [
        "# Now To Resume"
      ],
      "metadata": {
        "id": "xZy6VnV0GJoU"
      }
    },
    {
      "cell_type": "code",
      "source": [
        "for event in graph_222.stream(None,thread,stream_mode=\"values\"):\n",
        "  event[\"messages\"][-1].pretty_print()"
      ],
      "metadata": {
        "colab": {
          "base_uri": "https://localhost:8080/"
        },
        "id": "Tidb7MpyF-Ed",
        "outputId": "f393f91b-d190-4ebe-943a-42fabc14c492"
      },
      "execution_count": null,
      "outputs": [
        {
          "output_type": "stream",
          "name": "stdout",
          "text": [
            "================================\u001b[1m Human Message \u001b[0m=================================\n",
            "\n",
            "No,Multiply 10 by 10\n",
            "==================================\u001b[1m Ai Message \u001b[0m==================================\n",
            "Tool Calls:\n",
            "  multiply (23012618-9925-4dde-9c44-0513317da1c6)\n",
            " Call ID: 23012618-9925-4dde-9c44-0513317da1c6\n",
            "  Args:\n",
            "    a: 10.0\n",
            "    b: 10.0\n",
            "=================================\u001b[1m Tool Message \u001b[0m=================================\n",
            "Name: multiply\n",
            "\n",
            "100\n"
          ]
        }
      ]
    },
    {
      "cell_type": "code",
      "source": [
        "for event in graph_222.stream(None,thread,stream_mode=\"values\"):\n",
        "  event[\"messages\"][-1].pretty_print()"
      ],
      "metadata": {
        "colab": {
          "base_uri": "https://localhost:8080/"
        },
        "id": "aCLpBHx8GZaP",
        "outputId": "08359e1e-48bd-4cdb-d6b3-6554ace8d5b2"
      },
      "execution_count": null,
      "outputs": [
        {
          "output_type": "stream",
          "name": "stdout",
          "text": [
            "=================================\u001b[1m Tool Message \u001b[0m=================================\n",
            "Name: multiply\n",
            "\n",
            "100\n",
            "==================================\u001b[1m Ai Message \u001b[0m==================================\n",
            "\n",
            "10 multiplied by 10 is 100.\n"
          ]
        }
      ]
    },
    {
      "cell_type": "markdown",
      "source": [
        "# Editing Graph State With LangGraph API"
      ],
      "metadata": {
        "id": "N4jUJSX9JQ31"
      }
    },
    {
      "cell_type": "code",
      "source": [
        "initial_input = {\"messages\": \"Multiply 50 and 3\"}\n",
        "thread = await client.threads.create()\n",
        "async for chunk in client.runs.stream(\n",
        "    thread[\"thread_id\"],\n",
        "    \"agent\",\n",
        "    input=initial_input,\n",
        "    stream_mode=\"values\",\n",
        "    interrupt_before=[\"assistant\"],\n",
        "):\n",
        "    print(f\"Receiving new event of type: {chunk.event}...\")\n",
        "    messages = chunk.data.get('messages', [])\n",
        "    if messages:\n",
        "        print(messages[-1])\n",
        "    print(\"-\" * 50)"
      ],
      "metadata": {
        "colab": {
          "base_uri": "https://localhost:8080/"
        },
        "id": "gmjOayGZIq20",
        "outputId": "ac194e9d-9da1-4ab1-cad5-3510b2f99d89"
      },
      "execution_count": null,
      "outputs": [
        {
          "output_type": "stream",
          "name": "stdout",
          "text": [
            "Receiving new event of type: metadata...\n",
            "--------------------------------------------------\n",
            "Receiving new event of type: values...\n",
            "{'content': 'Multiply 50 and 3', 'additional_kwargs': {}, 'response_metadata': {}, 'type': 'human', 'name': None, 'id': '56e78332-d3f9-44f8-adb3-7790586a90c5', 'example': False}\n",
            "--------------------------------------------------\n"
          ]
        }
      ]
    },
    {
      "cell_type": "code",
      "source": [
        "current_state = await client.threads.get_state(thread['thread_id'])\n",
        "current_state"
      ],
      "metadata": {
        "colab": {
          "base_uri": "https://localhost:8080/"
        },
        "id": "k9sPkYuQJgN2",
        "outputId": "637075de-45e8-4f9f-c966-5f99f0195bde"
      },
      "execution_count": null,
      "outputs": [
        {
          "output_type": "execute_result",
          "data": {
            "text/plain": [
              "{'values': {'messages': [{'content': 'Multiply 50 and 3',\n",
              "    'additional_kwargs': {},\n",
              "    'response_metadata': {},\n",
              "    'type': 'human',\n",
              "    'name': None,\n",
              "    'id': '56e78332-d3f9-44f8-adb3-7790586a90c5',\n",
              "    'example': False}]},\n",
              " 'next': ['assistant'],\n",
              " 'tasks': [{'id': '821b8011-2a59-a83e-7ddc-f98ec4f3cc9d',\n",
              "   'name': 'assistant',\n",
              "   'path': ['__pregel_pull', 'assistant'],\n",
              "   'error': None,\n",
              "   'interrupts': [],\n",
              "   'checkpoint': None,\n",
              "   'state': None,\n",
              "   'result': None}],\n",
              " 'metadata': {'step': 0,\n",
              "  'run_id': '1efcdc63-cc8e-6906-a230-076c76dd976a',\n",
              "  'source': 'loop',\n",
              "  'writes': None,\n",
              "  'parents': {},\n",
              "  'user_id': '',\n",
              "  'graph_id': 'agent',\n",
              "  'thread_id': '9bf17d03-e082-43eb-be1d-ec278d19ae57',\n",
              "  'created_by': 'system',\n",
              "  'run_attempt': 1,\n",
              "  'assistant_id': 'fe096781-5601-53d2-b2f6-0d3403f7e9ca',\n",
              "  'langgraph_host': 'self-hosted',\n",
              "  'langgraph_plan': 'developer',\n",
              "  'x-forwarded-for': '34.55.98.47',\n",
              "  'x-forwarded-host': 'ac80-103-151-43-15.ngrok-free.app',\n",
              "  'langgraph_version': '0.2.61',\n",
              "  'x-forwarded-proto': 'https',\n",
              "  'langgraph_auth_user': None,\n",
              "  'langgraph_auth_user_id': ''},\n",
              " 'created_at': '2025-01-08T13:41:18.879049+00:00',\n",
              " 'checkpoint': {'checkpoint_id': '1efcdc63-d617-6b9b-8000-65ecb23e046b',\n",
              "  'thread_id': '9bf17d03-e082-43eb-be1d-ec278d19ae57',\n",
              "  'checkpoint_ns': ''},\n",
              " 'parent_checkpoint': {'checkpoint_id': '1efcdc63-d391-64f2-bfff-dfc806609e5f',\n",
              "  'thread_id': '9bf17d03-e082-43eb-be1d-ec278d19ae57',\n",
              "  'checkpoint_ns': ''},\n",
              " 'checkpoint_id': '1efcdc63-d617-6b9b-8000-65ecb23e046b',\n",
              " 'parent_checkpoint_id': '1efcdc63-d391-64f2-bfff-dfc806609e5f'}"
            ]
          },
          "metadata": {},
          "execution_count": 66
        }
      ]
    },
    {
      "cell_type": "code",
      "source": [
        "last_msg = current_state[\"values\"]['messages'][-1]\n",
        "last_msg"
      ],
      "metadata": {
        "colab": {
          "base_uri": "https://localhost:8080/"
        },
        "id": "cN6lU7snKvCH",
        "outputId": "850dd51d-985e-442e-b4c8-73a0daa5b9aa"
      },
      "execution_count": null,
      "outputs": [
        {
          "output_type": "execute_result",
          "data": {
            "text/plain": [
              "{'content': 'Multiply 50 and 3',\n",
              " 'additional_kwargs': {},\n",
              " 'response_metadata': {},\n",
              " 'type': 'human',\n",
              " 'name': None,\n",
              " 'id': '56e78332-d3f9-44f8-adb3-7790586a90c5',\n",
              " 'example': False}"
            ]
          },
          "metadata": {},
          "execution_count": 67
        }
      ]
    },
    {
      "cell_type": "markdown",
      "source": [
        "# Edit The State Here"
      ],
      "metadata": {
        "id": "SSaAyPvMNcFq"
      }
    },
    {
      "cell_type": "code",
      "source": [
        "last_msg[\"content\"] = \"No, Multiply 100 by 5\"\n",
        "last_msg"
      ],
      "metadata": {
        "colab": {
          "base_uri": "https://localhost:8080/"
        },
        "id": "mZnvffQ8NI_W",
        "outputId": "44d2097d-6532-46af-9f5b-a28b00ebcf09"
      },
      "execution_count": null,
      "outputs": [
        {
          "output_type": "execute_result",
          "data": {
            "text/plain": [
              "{'content': 'No, Multiply 100 by 5',\n",
              " 'additional_kwargs': {},\n",
              " 'response_metadata': {},\n",
              " 'type': 'human',\n",
              " 'name': None,\n",
              " 'id': '56e78332-d3f9-44f8-adb3-7790586a90c5',\n",
              " 'example': False}"
            ]
          },
          "metadata": {},
          "execution_count": 68
        }
      ]
    },
    {
      "cell_type": "code",
      "source": [
        "await client.threads.update_state(thread['thread_id'], {\"messages\": last_msg})"
      ],
      "metadata": {
        "colab": {
          "base_uri": "https://localhost:8080/"
        },
        "id": "9PUef5MXNak0",
        "outputId": "8d065b0d-f905-45ef-cd59-6bf331c8a8aa"
      },
      "execution_count": null,
      "outputs": [
        {
          "output_type": "execute_result",
          "data": {
            "text/plain": [
              "{'checkpoint': {'thread_id': '9bf17d03-e082-43eb-be1d-ec278d19ae57',\n",
              "  'checkpoint_ns': '',\n",
              "  'checkpoint_id': '1efcdca7-5bce-6243-8001-6dd253749564'},\n",
              " 'configurable': {'thread_id': '9bf17d03-e082-43eb-be1d-ec278d19ae57',\n",
              "  'checkpoint_ns': '',\n",
              "  'checkpoint_id': '1efcdca7-5bce-6243-8001-6dd253749564'},\n",
              " 'checkpoint_id': '1efcdca7-5bce-6243-8001-6dd253749564'}"
            ]
          },
          "metadata": {},
          "execution_count": 70
        }
      ]
    },
    {
      "cell_type": "markdown",
      "source": [
        "# Now To Resume Graph"
      ],
      "metadata": {
        "id": "HovW6K1HQjBJ"
      }
    },
    {
      "cell_type": "code",
      "source": [
        "async for chunk in client.runs.stream(\n",
        "    thread[\"thread_id\"],\n",
        "    assistant_id=\"agent\",\n",
        "    input=None,\n",
        "    stream_mode=\"values\",\n",
        "    interrupt_before=[\"assistant\"],\n",
        "):\n",
        "    print(f\"Receiving new event of type: {chunk.event}...\")\n",
        "    messages = chunk.data.get('messages', [])\n",
        "    if messages:\n",
        "        print(messages[-1])\n",
        "    print(\"-\" * 50)"
      ],
      "metadata": {
        "colab": {
          "base_uri": "https://localhost:8080/"
        },
        "id": "sp0q-RSrQWGb",
        "outputId": "56e79925-c44b-414c-a157-f085d7e5a51d"
      },
      "execution_count": null,
      "outputs": [
        {
          "output_type": "stream",
          "name": "stdout",
          "text": [
            "Receiving new event of type: metadata...\n",
            "--------------------------------------------------\n",
            "Receiving new event of type: values...\n",
            "{'content': 'No, Multiply 100 by 5', 'additional_kwargs': {'additional_kwargs': {}, 'response_metadata': {}, 'example': False}, 'response_metadata': {}, 'type': 'human', 'name': None, 'id': '56e78332-d3f9-44f8-adb3-7790586a90c5', 'example': False}\n",
            "--------------------------------------------------\n",
            "Receiving new event of type: values...\n",
            "{'content': '', 'additional_kwargs': {'function_call': {'name': 'multiply', 'arguments': '{\"a\": 100.0, \"b\": 5.0}'}}, 'response_metadata': {'prompt_feedback': {'block_reason': 0, 'safety_ratings': []}, 'finish_reason': 'STOP', 'safety_ratings': []}, 'type': 'ai', 'name': None, 'id': 'run-8bc05d10-24b2-4519-8b78-a92e872d3099-0', 'example': False, 'tool_calls': [{'name': 'multiply', 'args': {'a': 100.0, 'b': 5.0}, 'id': 'a01dbe43-6375-48b6-be97-94fdf2264f02', 'type': 'tool_call'}], 'invalid_tool_calls': [], 'usage_metadata': {'input_tokens': 172, 'output_tokens': 3, 'total_tokens': 175, 'input_token_details': {'cache_read': 0}}}\n",
            "--------------------------------------------------\n",
            "Receiving new event of type: values...\n",
            "{'content': '500', 'additional_kwargs': {}, 'response_metadata': {}, 'type': 'tool', 'name': 'multiply', 'id': '87830ca1-fb04-4081-8e03-979878bb8fc0', 'tool_call_id': 'a01dbe43-6375-48b6-be97-94fdf2264f02', 'artifact': None, 'status': 'success'}\n",
            "--------------------------------------------------\n"
          ]
        }
      ]
    },
    {
      "cell_type": "code",
      "source": [
        "async for chunk in client.runs.stream(\n",
        "    thread[\"thread_id\"],\n",
        "    assistant_id=\"agent\",\n",
        "    input=None,\n",
        "    stream_mode=\"values\",\n",
        "    interrupt_before=[\"assistant\"],\n",
        "):\n",
        "    print(f\"Receiving new event of type: {chunk.event}...\")\n",
        "    messages = chunk.data.get('messages', [])\n",
        "    if messages:\n",
        "        print(messages[-1])\n",
        "    print(\"-\" * 50)"
      ],
      "metadata": {
        "colab": {
          "base_uri": "https://localhost:8080/"
        },
        "id": "z-vErEt6Qo0C",
        "outputId": "63a02857-5b5b-4717-f504-5d8b8836990a"
      },
      "execution_count": null,
      "outputs": [
        {
          "output_type": "stream",
          "name": "stdout",
          "text": [
            "Receiving new event of type: metadata...\n",
            "--------------------------------------------------\n",
            "Receiving new event of type: values...\n",
            "{'content': '500', 'additional_kwargs': {}, 'response_metadata': {}, 'type': 'tool', 'name': 'multiply', 'id': '87830ca1-fb04-4081-8e03-979878bb8fc0', 'tool_call_id': 'a01dbe43-6375-48b6-be97-94fdf2264f02', 'artifact': None, 'status': 'success'}\n",
            "--------------------------------------------------\n",
            "Receiving new event of type: values...\n",
            "{'content': 'The result of multiplying 100 by 5 is 500.', 'additional_kwargs': {}, 'response_metadata': {'prompt_feedback': {'block_reason': 0, 'safety_ratings': []}, 'finish_reason': 'STOP', 'safety_ratings': []}, 'type': 'ai', 'name': None, 'id': 'run-47293c3d-e268-4309-ab94-968bf446b506-0', 'example': False, 'tool_calls': [], 'invalid_tool_calls': [], 'usage_metadata': {'input_tokens': 209, 'output_tokens': 18, 'total_tokens': 227, 'input_token_details': {'cache_read': 0}}}\n",
            "--------------------------------------------------\n"
          ]
        }
      ]
    },
    {
      "cell_type": "markdown",
      "source": [
        "# Now With A Human FeedBack"
      ],
      "metadata": {
        "id": "1mvh-nW5RxJD"
      }
    },
    {
      "cell_type": "code",
      "source": [
        "sys_msg = SystemMessage(content=\"You are a helpful assistant tasked with performing arithmetic on a set of inputs.\")\n",
        "\n",
        "def human_feedback(state: MessagesState):\n",
        "    pass\n",
        "\n",
        "def assistant(state: MessagesState):\n",
        "   return {\"messages\": [llm_with_tools.invoke([sys_msg] + state[\"messages\"])]}\n",
        "\n",
        "builder: StateGraph = StateGraph(MessagesState)\n",
        "\n",
        "builder.add_node(\"assistant\", assistant)\n",
        "builder.add_node(\"tools\", ToolNode(tools))\n",
        "builder.add_node(\"human_feedback\", human_feedback)\n",
        "\n",
        "builder.add_edge(START, \"human_feedback\")\n",
        "builder.add_edge(\"human_feedback\", \"assistant\")\n",
        "builder.add_conditional_edges(\n",
        "    \"assistant\",\n",
        "    tools_condition,\n",
        ")\n",
        "builder.add_edge(\"tools\", \"human_feedback\")\n",
        "\n",
        "memory = MemorySaver()\n",
        "graph_234 = builder.compile(interrupt_before=[\"human_feedback\"], checkpointer=memory)\n",
        "display(Image(graph_234.get_graph().draw_mermaid_png()))"
      ],
      "metadata": {
        "colab": {
          "base_uri": "https://localhost:8080/",
          "height": 407
        },
        "id": "5_PRrSCUQy2O",
        "outputId": "14d8010b-cc0a-4223-f646-6dbf0c8a2dbe"
      },
      "execution_count": null,
      "outputs": [
        {
          "output_type": "display_data",
          "data": {
            "image/png": "[encoded data removed]",
            "text/plain": [
              "<IPython.core.display.Image object>"
            ]
          },
          "metadata": {}
        }
      ]
    },
    {
      "cell_type": "code",
      "source": [
        "initial_input = {\"messages\": \"Multiply 2 and 3\"}\n",
        "\n",
        "thread = {\"configurable\": {\"thread_id\": \"5\"}}\n",
        "\n",
        "for event in graph_234.stream(initial_input, thread, stream_mode=\"values\"):\n",
        "    event[\"messages\"][-1].pretty_print()\n",
        "\n",
        "user_input = input(\"Tell me how you want to update the state: \")\n",
        "\n",
        "graph_234.update_state(thread, {\"messages\": user_input}, as_node=\"human_feedback\")\n",
        "\n",
        "for event in graph_234.stream(None, thread, stream_mode=\"values\"):\n",
        "    event[\"messages\"][-1].pretty_print()"
      ],
      "metadata": {
        "colab": {
          "base_uri": "https://localhost:8080/"
        },
        "id": "6dJ4p8waSPZ_",
        "outputId": "0b8bc7ec-a9aa-48a7-a445-75a0e565f0e8"
      },
      "execution_count": null,
      "outputs": [
        {
          "output_type": "stream",
          "name": "stdout",
          "text": [
            "================================\u001b[1m Human Message \u001b[0m=================================\n",
            "\n",
            "Multiply 2 and 3\n",
            "Tell me how you want to update the state: Multiply 5 by 5\n",
            "================================\u001b[1m Human Message \u001b[0m=================================\n",
            "\n",
            "Multiply 5 by 5\n",
            "==================================\u001b[1m Ai Message \u001b[0m==================================\n",
            "Tool Calls:\n",
            "  multiply (c17405e4-2611-4d72-af37-b1e6c2ed9b46)\n",
            " Call ID: c17405e4-2611-4d72-af37-b1e6c2ed9b46\n",
            "  Args:\n",
            "    a: 2.0\n",
            "    b: 3.0\n",
            "  multiply (e3172090-2347-4c61-b801-61297eabdd1f)\n",
            " Call ID: e3172090-2347-4c61-b801-61297eabdd1f\n",
            "  Args:\n",
            "    a: 5.0\n",
            "    b: 5.0\n",
            "=================================\u001b[1m Tool Message \u001b[0m=================================\n",
            "Name: multiply\n",
            "\n",
            "25\n"
          ]
        }
      ]
    },
    {
      "cell_type": "code",
      "source": [
        "for event in graph_234.stream(None, thread, stream_mode=\"values\"):\n",
        "    event[\"messages\"][-1].pretty_print()"
      ],
      "metadata": {
        "colab": {
          "base_uri": "https://localhost:8080/"
        },
        "id": "K5kzrJL8TeOK",
        "outputId": "428a5484-224a-4562-a7dd-88ecec0f8478"
      },
      "execution_count": null,
      "outputs": [
        {
          "output_type": "stream",
          "name": "stdout",
          "text": [
            "=================================\u001b[1m Tool Message \u001b[0m=================================\n",
            "Name: multiply\n",
            "\n",
            "25\n",
            "==================================\u001b[1m Ai Message \u001b[0m==================================\n",
            "\n",
            "6\n",
            "25\n"
          ]
        }
      ]
    }
  ]
}